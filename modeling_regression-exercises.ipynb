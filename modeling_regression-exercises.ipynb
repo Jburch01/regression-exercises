{
 "cells": [
  {
   "cell_type": "markdown",
   "id": "665584fc-34cd-42f4-8afa-3ec44cb9d01d",
   "metadata": {},
   "source": [
    "# Exercise"
   ]
  },
  {
   "cell_type": "code",
   "execution_count": 1,
   "id": "20ff306f-ea83-4288-844e-1e5b62e53082",
   "metadata": {},
   "outputs": [],
   "source": [
    "from pydataset import data\n",
    "import pandas as pd\n",
    "import numpy as np\n",
    "import matplotlib.pyplot as plt\n",
    "\n",
    "from wrangle import wrangle_zillow, scale_data\n",
    "\n",
    "# modeling methods\n",
    "from sklearn.metrics import mean_squared_error\n",
    "from sklearn.linear_model import LinearRegression, LassoLars, TweedieRegressor\n",
    "from sklearn.preprocessing import PolynomialFeatures\n",
    "from sklearn.metrics import explained_variance_score\n",
    "\n",
    "import warnings\n",
    "warnings.filterwarnings(\"ignore\")"
   ]
  },
  {
   "cell_type": "code",
   "execution_count": 2,
   "id": "bb0489a5-0278-44d2-b2be-17510b4283e1",
   "metadata": {},
   "outputs": [
    {
     "name": "stdout",
     "output_type": "stream",
     "text": [
      "<class 'numpy.float64'>\n",
      "1.5\n",
      "<class 'numpy.float64'>\n",
      "0.5\n",
      "<class 'numpy.float64'>\n",
      "-169.5\n",
      "<class 'numpy.float64'>\n",
      "-331365.5\n",
      "<class 'numpy.float64'>\n",
      "-3284.045\n"
     ]
    }
   ],
   "source": [
    "# Acquire \n",
    "\n",
    "train, val, test = wrangle_zillow()"
   ]
  },
  {
   "cell_type": "code",
   "execution_count": 3,
   "id": "05a351e3-eaa1-43b6-acbc-e2d8c26e6baa",
   "metadata": {},
   "outputs": [
    {
     "data": {
      "text/html": [
       "<div>\n",
       "<style scoped>\n",
       "    .dataframe tbody tr th:only-of-type {\n",
       "        vertical-align: middle;\n",
       "    }\n",
       "\n",
       "    .dataframe tbody tr th {\n",
       "        vertical-align: top;\n",
       "    }\n",
       "\n",
       "    .dataframe thead th {\n",
       "        text-align: right;\n",
       "    }\n",
       "</style>\n",
       "<table border=\"1\" class=\"dataframe\">\n",
       "  <thead>\n",
       "    <tr style=\"text-align: right;\">\n",
       "      <th></th>\n",
       "      <th>bedrooms</th>\n",
       "      <th>bathrooms</th>\n",
       "      <th>area</th>\n",
       "      <th>tax_value</th>\n",
       "      <th>year_built</th>\n",
       "      <th>taxamount</th>\n",
       "      <th>fips</th>\n",
       "    </tr>\n",
       "  </thead>\n",
       "  <tbody>\n",
       "    <tr>\n",
       "      <th>898710</th>\n",
       "      <td>5.0</td>\n",
       "      <td>3.0</td>\n",
       "      <td>3349.0</td>\n",
       "      <td>208996.0</td>\n",
       "      <td>1964.0</td>\n",
       "      <td>2815.98</td>\n",
       "      <td>6037.0</td>\n",
       "    </tr>\n",
       "    <tr>\n",
       "      <th>951392</th>\n",
       "      <td>4.0</td>\n",
       "      <td>3.0</td>\n",
       "      <td>1985.0</td>\n",
       "      <td>259657.0</td>\n",
       "      <td>1977.0</td>\n",
       "      <td>3743.23</td>\n",
       "      <td>6037.0</td>\n",
       "    </tr>\n",
       "    <tr>\n",
       "      <th>1847439</th>\n",
       "      <td>3.0</td>\n",
       "      <td>1.0</td>\n",
       "      <td>1616.0</td>\n",
       "      <td>28940.0</td>\n",
       "      <td>1920.0</td>\n",
       "      <td>829.60</td>\n",
       "      <td>6037.0</td>\n",
       "    </tr>\n",
       "    <tr>\n",
       "      <th>706503</th>\n",
       "      <td>4.0</td>\n",
       "      <td>2.5</td>\n",
       "      <td>2028.0</td>\n",
       "      <td>87633.0</td>\n",
       "      <td>1972.0</td>\n",
       "      <td>1321.00</td>\n",
       "      <td>6111.0</td>\n",
       "    </tr>\n",
       "    <tr>\n",
       "      <th>461225</th>\n",
       "      <td>2.0</td>\n",
       "      <td>2.0</td>\n",
       "      <td>1138.0</td>\n",
       "      <td>46382.0</td>\n",
       "      <td>1958.0</td>\n",
       "      <td>583.19</td>\n",
       "      <td>6037.0</td>\n",
       "    </tr>\n",
       "  </tbody>\n",
       "</table>\n",
       "</div>"
      ],
      "text/plain": [
       "         bedrooms  bathrooms    area  tax_value year_built  taxamount    fips\n",
       "898710        5.0        3.0  3349.0   208996.0     1964.0    2815.98  6037.0\n",
       "951392        4.0        3.0  1985.0   259657.0     1977.0    3743.23  6037.0\n",
       "1847439       3.0        1.0  1616.0    28940.0     1920.0     829.60  6037.0\n",
       "706503        4.0        2.5  2028.0    87633.0     1972.0    1321.00  6111.0\n",
       "461225        2.0        2.0  1138.0    46382.0     1958.0     583.19  6037.0"
      ]
     },
     "execution_count": 3,
     "metadata": {},
     "output_type": "execute_result"
    }
   ],
   "source": [
    "train.head()"
   ]
  },
  {
   "cell_type": "code",
   "execution_count": 4,
   "id": "28e4ce09-7458-4d41-a5be-0c0ccfb6fa6d",
   "metadata": {},
   "outputs": [],
   "source": [
    "train_scaled, val_scaled, test_scaled = scale_data(train, val, test)"
   ]
  },
  {
   "cell_type": "code",
   "execution_count": 5,
   "id": "7b2d96cf-bf62-4031-aa20-8ed0b4683d41",
   "metadata": {},
   "outputs": [
    {
     "data": {
      "text/html": [
       "<div>\n",
       "<style scoped>\n",
       "    .dataframe tbody tr th:only-of-type {\n",
       "        vertical-align: middle;\n",
       "    }\n",
       "\n",
       "    .dataframe tbody tr th {\n",
       "        vertical-align: top;\n",
       "    }\n",
       "\n",
       "    .dataframe thead th {\n",
       "        text-align: right;\n",
       "    }\n",
       "</style>\n",
       "<table border=\"1\" class=\"dataframe\">\n",
       "  <thead>\n",
       "    <tr style=\"text-align: right;\">\n",
       "      <th></th>\n",
       "      <th>bedrooms</th>\n",
       "      <th>bathrooms</th>\n",
       "      <th>area</th>\n",
       "      <th>tax_value</th>\n",
       "      <th>year_built</th>\n",
       "      <th>taxamount</th>\n",
       "      <th>fips</th>\n",
       "    </tr>\n",
       "  </thead>\n",
       "  <tbody>\n",
       "    <tr>\n",
       "      <th>898710</th>\n",
       "      <td>1.000000</td>\n",
       "      <td>0.666667</td>\n",
       "      <td>0.921552</td>\n",
       "      <td>208996.0</td>\n",
       "      <td>1964.0</td>\n",
       "      <td>0.229151</td>\n",
       "      <td>6037.0</td>\n",
       "    </tr>\n",
       "    <tr>\n",
       "      <th>951392</th>\n",
       "      <td>0.666667</td>\n",
       "      <td>0.666667</td>\n",
       "      <td>0.546105</td>\n",
       "      <td>259657.0</td>\n",
       "      <td>1977.0</td>\n",
       "      <td>0.305050</td>\n",
       "      <td>6037.0</td>\n",
       "    </tr>\n",
       "    <tr>\n",
       "      <th>1847439</th>\n",
       "      <td>0.333333</td>\n",
       "      <td>0.000000</td>\n",
       "      <td>0.444536</td>\n",
       "      <td>28940.0</td>\n",
       "      <td>1920.0</td>\n",
       "      <td>0.066557</td>\n",
       "      <td>6037.0</td>\n",
       "    </tr>\n",
       "    <tr>\n",
       "      <th>706503</th>\n",
       "      <td>0.666667</td>\n",
       "      <td>0.500000</td>\n",
       "      <td>0.557941</td>\n",
       "      <td>87633.0</td>\n",
       "      <td>1972.0</td>\n",
       "      <td>0.106780</td>\n",
       "      <td>6111.0</td>\n",
       "    </tr>\n",
       "    <tr>\n",
       "      <th>461225</th>\n",
       "      <td>0.000000</td>\n",
       "      <td>0.333333</td>\n",
       "      <td>0.312964</td>\n",
       "      <td>46382.0</td>\n",
       "      <td>1958.0</td>\n",
       "      <td>0.046388</td>\n",
       "      <td>6037.0</td>\n",
       "    </tr>\n",
       "  </tbody>\n",
       "</table>\n",
       "</div>"
      ],
      "text/plain": [
       "         bedrooms  bathrooms      area  tax_value year_built  taxamount  \\\n",
       "898710   1.000000   0.666667  0.921552   208996.0     1964.0   0.229151   \n",
       "951392   0.666667   0.666667  0.546105   259657.0     1977.0   0.305050   \n",
       "1847439  0.333333   0.000000  0.444536    28940.0     1920.0   0.066557   \n",
       "706503   0.666667   0.500000  0.557941    87633.0     1972.0   0.106780   \n",
       "461225   0.000000   0.333333  0.312964    46382.0     1958.0   0.046388   \n",
       "\n",
       "           fips  \n",
       "898710   6037.0  \n",
       "951392   6037.0  \n",
       "1847439  6037.0  \n",
       "706503   6111.0  \n",
       "461225   6037.0  "
      ]
     },
     "execution_count": 5,
     "metadata": {},
     "output_type": "execute_result"
    }
   ],
   "source": [
    "train_scaled.head()"
   ]
  },
  {
   "cell_type": "code",
   "execution_count": 22,
   "id": "b7fdaa95-e241-4e63-99de-f689fd16ddee",
   "metadata": {},
   "outputs": [],
   "source": [
    "x_train = train_scaled.drop(columns='tax_value')\n",
    "y_train = pd.DataFrame(train_scaled['tax_value'])\n",
    "\n",
    "x_val = val_scaled.drop(columns='tax_value')\n",
    "y_val = pd.DataFrame(val_scaled['tax_value'])\n",
    "\n",
    "x_test = test_scaled.drop(columns='tax_value')\n",
    "y_test = test_scaled['tax_value']"
   ]
  },
  {
   "cell_type": "code",
   "execution_count": 16,
   "id": "f703aba3-7080-4c48-8f5b-f03f08b64b45",
   "metadata": {},
   "outputs": [
    {
     "data": {
      "text/html": [
       "<div>\n",
       "<style scoped>\n",
       "    .dataframe tbody tr th:only-of-type {\n",
       "        vertical-align: middle;\n",
       "    }\n",
       "\n",
       "    .dataframe tbody tr th {\n",
       "        vertical-align: top;\n",
       "    }\n",
       "\n",
       "    .dataframe thead th {\n",
       "        text-align: right;\n",
       "    }\n",
       "</style>\n",
       "<table border=\"1\" class=\"dataframe\">\n",
       "  <thead>\n",
       "    <tr style=\"text-align: right;\">\n",
       "      <th></th>\n",
       "      <th>tax_value</th>\n",
       "    </tr>\n",
       "  </thead>\n",
       "  <tbody>\n",
       "    <tr>\n",
       "      <th>898710</th>\n",
       "      <td>208996.0</td>\n",
       "    </tr>\n",
       "    <tr>\n",
       "      <th>951392</th>\n",
       "      <td>259657.0</td>\n",
       "    </tr>\n",
       "    <tr>\n",
       "      <th>1847439</th>\n",
       "      <td>28940.0</td>\n",
       "    </tr>\n",
       "    <tr>\n",
       "      <th>706503</th>\n",
       "      <td>87633.0</td>\n",
       "    </tr>\n",
       "    <tr>\n",
       "      <th>461225</th>\n",
       "      <td>46382.0</td>\n",
       "    </tr>\n",
       "    <tr>\n",
       "      <th>...</th>\n",
       "      <td>...</td>\n",
       "    </tr>\n",
       "    <tr>\n",
       "      <th>1025016</th>\n",
       "      <td>62992.0</td>\n",
       "    </tr>\n",
       "    <tr>\n",
       "      <th>1734384</th>\n",
       "      <td>540464.0</td>\n",
       "    </tr>\n",
       "    <tr>\n",
       "      <th>1121629</th>\n",
       "      <td>513043.0</td>\n",
       "    </tr>\n",
       "    <tr>\n",
       "      <th>533946</th>\n",
       "      <td>157328.0</td>\n",
       "    </tr>\n",
       "    <tr>\n",
       "      <th>358089</th>\n",
       "      <td>324451.0</td>\n",
       "    </tr>\n",
       "  </tbody>\n",
       "</table>\n",
       "<p>1068354 rows × 1 columns</p>\n",
       "</div>"
      ],
      "text/plain": [
       "         tax_value\n",
       "898710    208996.0\n",
       "951392    259657.0\n",
       "1847439    28940.0\n",
       "706503     87633.0\n",
       "461225     46382.0\n",
       "...            ...\n",
       "1025016    62992.0\n",
       "1734384   540464.0\n",
       "1121629   513043.0\n",
       "533946    157328.0\n",
       "358089    324451.0\n",
       "\n",
       "[1068354 rows x 1 columns]"
      ]
     },
     "execution_count": 16,
     "metadata": {},
     "output_type": "execute_result"
    }
   ],
   "source": [
    "x_train\n",
    "y_train\n"
   ]
  },
  {
   "cell_type": "code",
   "execution_count": 17,
   "id": "de1f41c3-453e-4633-8b0c-2e9479564309",
   "metadata": {
    "tags": []
   },
   "outputs": [
    {
     "data": {
      "image/png": "[encoded data removed]",
      "text/plain": [
       "<Figure size 640x480 with 1 Axes>"
      ]
     },
     "metadata": {},
     "output_type": "display_data"
    }
   ],
   "source": [
    "plt.hist(y_train)\n",
    "plt.show()"
   ]
  },
  {
   "cell_type": "code",
   "execution_count": 23,
   "id": "ad4f2896-a94d-4e24-ad6b-efb0758351bc",
   "metadata": {},
   "outputs": [],
   "source": [
    "# 1. Predict G3_pred_mean\n",
    "tax_value_pred_mean = y_train.tax_value.mean()\n",
    "y_train['tax_value_pred_mean'] = tax_value_pred_mean\n",
    "y_val['tax_value_pred_mean'] = tax_value_pred_mean"
   ]
  },
  {
   "cell_type": "code",
   "execution_count": 24,
   "id": "13bf0dd7-0f11-4058-b394-10d2f1e9cceb",
   "metadata": {},
   "outputs": [
    {
     "data": {
      "text/html": [
       "<div>\n",
       "<style scoped>\n",
       "    .dataframe tbody tr th:only-of-type {\n",
       "        vertical-align: middle;\n",
       "    }\n",
       "\n",
       "    .dataframe tbody tr th {\n",
       "        vertical-align: top;\n",
       "    }\n",
       "\n",
       "    .dataframe thead th {\n",
       "        text-align: right;\n",
       "    }\n",
       "</style>\n",
       "<table border=\"1\" class=\"dataframe\">\n",
       "  <thead>\n",
       "    <tr style=\"text-align: right;\">\n",
       "      <th></th>\n",
       "      <th>tax_value</th>\n",
       "      <th>tax_value_pred_mean</th>\n",
       "    </tr>\n",
       "  </thead>\n",
       "  <tbody>\n",
       "    <tr>\n",
       "      <th>898710</th>\n",
       "      <td>208996.0</td>\n",
       "      <td>341819.929829</td>\n",
       "    </tr>\n",
       "    <tr>\n",
       "      <th>951392</th>\n",
       "      <td>259657.0</td>\n",
       "      <td>341819.929829</td>\n",
       "    </tr>\n",
       "    <tr>\n",
       "      <th>1847439</th>\n",
       "      <td>28940.0</td>\n",
       "      <td>341819.929829</td>\n",
       "    </tr>\n",
       "    <tr>\n",
       "      <th>706503</th>\n",
       "      <td>87633.0</td>\n",
       "      <td>341819.929829</td>\n",
       "    </tr>\n",
       "    <tr>\n",
       "      <th>461225</th>\n",
       "      <td>46382.0</td>\n",
       "      <td>341819.929829</td>\n",
       "    </tr>\n",
       "    <tr>\n",
       "      <th>...</th>\n",
       "      <td>...</td>\n",
       "      <td>...</td>\n",
       "    </tr>\n",
       "    <tr>\n",
       "      <th>1025016</th>\n",
       "      <td>62992.0</td>\n",
       "      <td>341819.929829</td>\n",
       "    </tr>\n",
       "    <tr>\n",
       "      <th>1734384</th>\n",
       "      <td>540464.0</td>\n",
       "      <td>341819.929829</td>\n",
       "    </tr>\n",
       "    <tr>\n",
       "      <th>1121629</th>\n",
       "      <td>513043.0</td>\n",
       "      <td>341819.929829</td>\n",
       "    </tr>\n",
       "    <tr>\n",
       "      <th>533946</th>\n",
       "      <td>157328.0</td>\n",
       "      <td>341819.929829</td>\n",
       "    </tr>\n",
       "    <tr>\n",
       "      <th>358089</th>\n",
       "      <td>324451.0</td>\n",
       "      <td>341819.929829</td>\n",
       "    </tr>\n",
       "  </tbody>\n",
       "</table>\n",
       "<p>1068354 rows × 2 columns</p>\n",
       "</div>"
      ],
      "text/plain": [
       "         tax_value  tax_value_pred_mean\n",
       "898710    208996.0        341819.929829\n",
       "951392    259657.0        341819.929829\n",
       "1847439    28940.0        341819.929829\n",
       "706503     87633.0        341819.929829\n",
       "461225     46382.0        341819.929829\n",
       "...            ...                  ...\n",
       "1025016    62992.0        341819.929829\n",
       "1734384   540464.0        341819.929829\n",
       "1121629   513043.0        341819.929829\n",
       "533946    157328.0        341819.929829\n",
       "358089    324451.0        341819.929829\n",
       "\n",
       "[1068354 rows x 2 columns]"
      ]
     },
     "execution_count": 24,
     "metadata": {},
     "output_type": "execute_result"
    }
   ],
   "source": [
    "y_train"
   ]
  },
  {
   "cell_type": "code",
   "execution_count": 26,
   "id": "720c9668-a324-4ca2-8436-ef63e5f59e31",
   "metadata": {},
   "outputs": [
    {
     "name": "stdout",
     "output_type": "stream",
     "text": [
      "RMSE using Mean\n",
      "Train/In-Sample: 215510.13 \n",
      "Validate/Out-of-Sample: 215565.99\n"
     ]
    }
   ],
   "source": [
    "# 3. RMSE of tax_value_pred_mean\n",
    "rmse_train_mu = mean_squared_error(y_train.tax_value,\n",
    "                                y_train.tax_value_pred_mean) ** .5\n",
    "\n",
    "rmse_validate_mu = mean_squared_error(y_val.tax_value, y_val.tax_value_pred_mean) ** (0.5)\n",
    "\n",
    "print(f\"\"\"RMSE using Mean\n",
    "Train/In-Sample: {round(rmse_train_mu, 2)} \n",
    "Validate/Out-of-Sample: {round(rmse_validate_mu, 2)}\"\"\")"
   ]
  },
  {
   "cell_type": "code",
   "execution_count": 63,
   "id": "f7e901b3-a69f-4a93-9ced-dbaf0ad19146",
   "metadata": {},
   "outputs": [],
   "source": [
    "metric_df = pd.DataFrame(data=[\n",
    "    {'model': 'mean_baseline',\n",
    "     'RMSE_train': rmse_train_mu,\n",
    "     'RMSE_validate': rmse_validate_mu,\n",
    "     'R2_validate': explained_variance_score(y_val.tax_value,\n",
    "                                             y_val.tax_value_pred_mean)\n",
    "    }\n",
    "]\n",
    ")"
   ]
  },
  {
   "cell_type": "code",
   "execution_count": 28,
   "id": "6858fcb3-4ad8-4ee7-96be-108c0c675be1",
   "metadata": {},
   "outputs": [
    {
     "data": {
      "text/html": [
       "<div>\n",
       "<style scoped>\n",
       "    .dataframe tbody tr th:only-of-type {\n",
       "        vertical-align: middle;\n",
       "    }\n",
       "\n",
       "    .dataframe tbody tr th {\n",
       "        vertical-align: top;\n",
       "    }\n",
       "\n",
       "    .dataframe thead th {\n",
       "        text-align: right;\n",
       "    }\n",
       "</style>\n",
       "<table border=\"1\" class=\"dataframe\">\n",
       "  <thead>\n",
       "    <tr style=\"text-align: right;\">\n",
       "      <th></th>\n",
       "      <th>model</th>\n",
       "      <th>RMSE_train</th>\n",
       "      <th>RMSE_validate</th>\n",
       "      <th>R2_validate</th>\n",
       "    </tr>\n",
       "  </thead>\n",
       "  <tbody>\n",
       "    <tr>\n",
       "      <th>0</th>\n",
       "      <td>mean_baseline</td>\n",
       "      <td>215510.133112</td>\n",
       "      <td>215565.990935</td>\n",
       "      <td>0.0</td>\n",
       "    </tr>\n",
       "  </tbody>\n",
       "</table>\n",
       "</div>"
      ],
      "text/plain": [
       "           model     RMSE_train  RMSE_validate  R2_validate\n",
       "0  mean_baseline  215510.133112  215565.990935          0.0"
      ]
     },
     "execution_count": 28,
     "metadata": {},
     "output_type": "execute_result"
    }
   ],
   "source": [
    "metric_df"
   ]
  },
  {
   "cell_type": "code",
   "execution_count": 36,
   "id": "63f7bad9-8af1-4119-bf28-6cdd15f57fbf",
   "metadata": {},
   "outputs": [
    {
     "data": {
      "image/png": "[encoded data removed]",
      "text/plain": [
       "<Figure size 640x480 with 1 Axes>"
      ]
     },
     "metadata": {},
     "output_type": "display_data"
    }
   ],
   "source": [
    "# plot to visualize actual vs predicted. \n",
    "\n",
    "plt.hist(y_train.tax_value, color='blue', alpha=.5, label=\"Actual tax_value\")\n",
    "plt.hist(y_train.tax_value_pred_mean, bins=1, color='red', alpha=.5,  label=\"Predicted tax_value - Mean\")\n",
    "\n",
    "\n",
    "plt.legend()\n",
    "plt.show()"
   ]
  },
  {
   "cell_type": "code",
   "execution_count": 64,
   "id": "624949d3-790b-449b-aa4f-44011bd86dd3",
   "metadata": {},
   "outputs": [],
   "source": [
    "# MAKE THE THING: create the model object\n",
    "lm = LinearRegression()\n",
    "\n",
    "#1. FIT THE THING: fit the model to training data\n",
    "OLSmodel = lm.fit(x_train, y_train.tax_value)\n",
    "\n",
    "#2. USE THE THING: make a prediction\n",
    "y_train['tax_value_pred_lm'] = lm.predict(x_train)\n",
    "\n",
    "#3. Evaluate: RMSE\n",
    "rmse_train = mean_squared_error(y_train.tax_value, y_train.tax_value_pred_lm)**(1/2)"
   ]
  },
  {
   "cell_type": "code",
   "execution_count": 65,
   "id": "5843578a-0a05-46cd-8b09-5a44a4baf082",
   "metadata": {},
   "outputs": [
    {
     "name": "stdout",
     "output_type": "stream",
     "text": [
      "RMSE for OLS using LinearRegression\n",
      "Training/In-Sample:  50358.65578495788 \n",
      "Validation/Out-of-Sample: 49519.31637747361\n"
     ]
    }
   ],
   "source": [
    "#4. REPEAT STEPS 2-3\n",
    "\n",
    "# predict validate\n",
    "y_val['tax_value_pred_lm'] = lm.predict(x_val)\n",
    "\n",
    "\n",
    "# evaluate: RMSE\n",
    "rmse_validate = mean_squared_error(y_val.tax_value, y_val.tax_value_pred_lm)**(1/2)\n",
    "\n",
    "\n",
    "print(f\"\"\"RMSE for OLS using LinearRegression\n",
    "Training/In-Sample:  {rmse_train} \n",
    "Validation/Out-of-Sample: {rmse_validate}\"\"\")"
   ]
  },
  {
   "cell_type": "code",
   "execution_count": 66,
   "id": "878b14c4-9425-4569-8628-a13fc1c5ea07",
   "metadata": {},
   "outputs": [],
   "source": [
    "metric_df = metric_df.append(\n",
    "    {'model': 'OLS Regressor',\n",
    "     'RMSE_train': rmse_train,\n",
    "     'RMSE_validate': rmse_validate,\n",
    "     'R2_validate': explained_variance_score(y_val.tax_value,\n",
    "                                             y_val.tax_value_pred_lm)\n",
    "    }, ignore_index=True)"
   ]
  },
  {
   "cell_type": "code",
   "execution_count": 67,
   "id": "0f104929-d623-4666-a59e-0aa636cf4965",
   "metadata": {},
   "outputs": [
    {
     "data": {
      "text/html": [
       "<div>\n",
       "<style scoped>\n",
       "    .dataframe tbody tr th:only-of-type {\n",
       "        vertical-align: middle;\n",
       "    }\n",
       "\n",
       "    .dataframe tbody tr th {\n",
       "        vertical-align: top;\n",
       "    }\n",
       "\n",
       "    .dataframe thead th {\n",
       "        text-align: right;\n",
       "    }\n",
       "</style>\n",
       "<table border=\"1\" class=\"dataframe\">\n",
       "  <thead>\n",
       "    <tr style=\"text-align: right;\">\n",
       "      <th></th>\n",
       "      <th>model</th>\n",
       "      <th>RMSE_train</th>\n",
       "      <th>RMSE_validate</th>\n",
       "      <th>R2_validate</th>\n",
       "    </tr>\n",
       "  </thead>\n",
       "  <tbody>\n",
       "    <tr>\n",
       "      <th>0</th>\n",
       "      <td>mean_baseline</td>\n",
       "      <td>215510.133112</td>\n",
       "      <td>215565.990935</td>\n",
       "      <td>0.000000</td>\n",
       "    </tr>\n",
       "    <tr>\n",
       "      <th>1</th>\n",
       "      <td>OLS Regressor</td>\n",
       "      <td>50358.655785</td>\n",
       "      <td>49519.316377</td>\n",
       "      <td>0.947231</td>\n",
       "    </tr>\n",
       "  </tbody>\n",
       "</table>\n",
       "</div>"
      ],
      "text/plain": [
       "           model     RMSE_train  RMSE_validate  R2_validate\n",
       "0  mean_baseline  215510.133112  215565.990935     0.000000\n",
       "1  OLS Regressor   50358.655785   49519.316377     0.947231"
      ]
     },
     "execution_count": 67,
     "metadata": {},
     "output_type": "execute_result"
    }
   ],
   "source": [
    "metric_df"
   ]
  },
  {
   "cell_type": "code",
   "execution_count": 48,
   "id": "0415f130-15c6-433e-b0df-9007abe7d12a",
   "metadata": {},
   "outputs": [
    {
     "data": {
      "text/plain": [
       "array([-1.16661274e+04,  6.16776167e+03,  3.72529284e+04, -3.07118524e+02,\n",
       "        1.03216474e+06,  7.71165991e+02])"
      ]
     },
     "execution_count": 48,
     "metadata": {},
     "output_type": "execute_result"
    }
   ],
   "source": [
    "OLSmodel.coef_"
   ]
  },
  {
   "cell_type": "code",
   "execution_count": 49,
   "id": "10b13930-1e7d-49dc-aae2-d3e9c3c2a62a",
   "metadata": {},
   "outputs": [
    {
     "data": {
      "text/plain": [
       "-4091934.5543146417"
      ]
     },
     "execution_count": 49,
     "metadata": {},
     "output_type": "execute_result"
    }
   ],
   "source": [
    "OLSmodel.intercept_"
   ]
  },
  {
   "cell_type": "code",
   "execution_count": 68,
   "id": "872af2f2-e267-4288-b92c-7b53976d09b2",
   "metadata": {},
   "outputs": [
    {
     "name": "stdout",
     "output_type": "stream",
     "text": [
      "RMSE for Lasso + Lars\n",
      "_____________________\n",
      "Training/In-Sample: 50358.667945721994, \n",
      "Validation/Out-of-Sample:  49519.20713149928\n",
      "Difference:  -839.4608142227153\n"
     ]
    }
   ],
   "source": [
    "# MAKE THE THING: create the model object\n",
    "lars = LassoLars(alpha=0.01)\n",
    "\n",
    "#1. FIT THE THING: fit the model to training data\n",
    "# We must specify the column in y_train, since we have converted it to a dataframe from a series!\n",
    "lars.fit(x_train, y_train.tax_value)\n",
    "\n",
    "#2. USE THE THING: make a prediction\n",
    "y_train['tax_value_pred_lars'] = lars.predict(x_train)\n",
    "\n",
    "#3. Evaluate: RMSE\n",
    "rmse_train = mean_squared_error(y_train.tax_value, y_train.tax_value_pred_lars) ** (1/2)\n",
    "\n",
    "#4. REPEAT STEPS 2-3\n",
    "\n",
    "# predict validate\n",
    "y_val['tax_value_pred_lars'] = lars.predict(x_val)\n",
    "\n",
    "# evaluate: RMSE\n",
    "rmse_validate = mean_squared_error(y_val.tax_value, y_val.tax_value_pred_lars) ** (1/2)\n",
    "\n",
    "print(f\"\"\"RMSE for Lasso + Lars\n",
    "_____________________\n",
    "Training/In-Sample: {rmse_train}, \n",
    "Validation/Out-of-Sample:  {rmse_validate}\n",
    "Difference:  {rmse_validate - rmse_train}\"\"\")"
   ]
  },
  {
   "cell_type": "code",
   "execution_count": 69,
   "id": "a71c0122-5b96-44c2-8e49-05a44309305a",
   "metadata": {},
   "outputs": [],
   "source": [
    "metric_df = metric_df.append(\n",
    "    {'model': 'Lars lasso',\n",
    "     'RMSE_train': rmse_train,\n",
    "     'RMSE_validate': rmse_validate,\n",
    "     'R2_validate': explained_variance_score(y_val.tax_value,\n",
    "                                             y_val.tax_value_pred_lars)\n",
    "    }, ignore_index=True)"
   ]
  },
  {
   "cell_type": "code",
   "execution_count": 70,
   "id": "47497226-30fe-4ed5-b0bd-398ecabdf35d",
   "metadata": {},
   "outputs": [
    {
     "data": {
      "text/html": [
       "<div>\n",
       "<style scoped>\n",
       "    .dataframe tbody tr th:only-of-type {\n",
       "        vertical-align: middle;\n",
       "    }\n",
       "\n",
       "    .dataframe tbody tr th {\n",
       "        vertical-align: top;\n",
       "    }\n",
       "\n",
       "    .dataframe thead th {\n",
       "        text-align: right;\n",
       "    }\n",
       "</style>\n",
       "<table border=\"1\" class=\"dataframe\">\n",
       "  <thead>\n",
       "    <tr style=\"text-align: right;\">\n",
       "      <th></th>\n",
       "      <th>model</th>\n",
       "      <th>RMSE_train</th>\n",
       "      <th>RMSE_validate</th>\n",
       "      <th>R2_validate</th>\n",
       "    </tr>\n",
       "  </thead>\n",
       "  <tbody>\n",
       "    <tr>\n",
       "      <th>0</th>\n",
       "      <td>mean_baseline</td>\n",
       "      <td>215510.133112</td>\n",
       "      <td>215565.990935</td>\n",
       "      <td>0.000000</td>\n",
       "    </tr>\n",
       "    <tr>\n",
       "      <th>1</th>\n",
       "      <td>OLS Regressor</td>\n",
       "      <td>50358.655785</td>\n",
       "      <td>49519.316377</td>\n",
       "      <td>0.947231</td>\n",
       "    </tr>\n",
       "    <tr>\n",
       "      <th>2</th>\n",
       "      <td>Lars lasso</td>\n",
       "      <td>50358.667946</td>\n",
       "      <td>49519.207131</td>\n",
       "      <td>0.947232</td>\n",
       "    </tr>\n",
       "  </tbody>\n",
       "</table>\n",
       "</div>"
      ],
      "text/plain": [
       "           model     RMSE_train  RMSE_validate  R2_validate\n",
       "0  mean_baseline  215510.133112  215565.990935     0.000000\n",
       "1  OLS Regressor   50358.655785   49519.316377     0.947231\n",
       "2     Lars lasso   50358.667946   49519.207131     0.947232"
      ]
     },
     "execution_count": 70,
     "metadata": {},
     "output_type": "execute_result"
    }
   ],
   "source": [
    "metric_df\n"
   ]
  },
  {
   "cell_type": "code",
   "execution_count": null,
   "id": "1379ad14-4380-4146-890a-9a94c9a621a5",
   "metadata": {},
   "outputs": [],
   "source": []
  },
  {
   "cell_type": "code",
   "execution_count": null,
   "id": "7f96b781-c96f-4a70-8b0d-4083e6e5dee9",
   "metadata": {},
   "outputs": [],
   "source": []
  },
  {
   "cell_type": "code",
   "execution_count": null,
   "id": "289e69fa-e852-42a8-abcc-4dad5093707e",
   "metadata": {},
   "outputs": [],
   "source": []
  },
  {
   "cell_type": "code",
   "execution_count": null,
   "id": "3aa2835b-a46b-477c-8ab6-b5709e729770",
   "metadata": {},
   "outputs": [],
   "source": []
  },
  {
   "cell_type": "code",
   "execution_count": null,
   "id": "2f88a39a-0bea-4130-a92c-b6c390e48739",
   "metadata": {},
   "outputs": [],
   "source": []
  },
  {
   "cell_type": "code",
   "execution_count": null,
   "id": "48e61624-d0fa-406b-916b-e211badbc979",
   "metadata": {},
   "outputs": [],
   "source": []
  },
  {
   "cell_type": "code",
   "execution_count": null,
   "id": "e5a1a761-81ea-44fa-999c-a5ef84093691",
   "metadata": {},
   "outputs": [],
   "source": []
  },
  {
   "cell_type": "code",
   "execution_count": null,
   "id": "7b51c365-ee4d-49de-8253-9f922070b8d1",
   "metadata": {},
   "outputs": [],
   "source": []
  },
  {
   "cell_type": "code",
   "execution_count": null,
   "id": "92b7e171-9ca5-4f4e-a3c7-04fff2c7866e",
   "metadata": {},
   "outputs": [],
   "source": []
  },
  {
   "cell_type": "code",
   "execution_count": null,
   "id": "24776d3d-5b9b-46ca-959c-c24c73122e86",
   "metadata": {},
   "outputs": [],
   "source": []
  },
  {
   "cell_type": "code",
   "execution_count": null,
   "id": "1eae547c-5720-473d-8bb5-9bb7ab63b0d0",
   "metadata": {},
   "outputs": [],
   "source": []
  }
 ],
 "metadata": {
  "kernelspec": {
   "display_name": "Python 3 (ipykernel)",
   "language": "python",
   "name": "python3"
  },
  "language_info": {
   "codemirror_mode": {
    "name": "ipython",
    "version": 3
   },
   "file_extension": ".py",
   "mimetype": "text/x-python",
   "name": "python",
   "nbconvert_exporter": "python",
   "pygments_lexer": "ipython3",
   "version": "3.9.13"
  }
 },
 "nbformat": 4,
 "nbformat_minor": 5
}
