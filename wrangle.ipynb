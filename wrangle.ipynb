{
 "cells": [
  {
   "cell_type": "code",
   "execution_count": 3,
   "id": "8b311520-d913-4573-b3b2-6d5be9cf3014",
   "metadata": {},
   "outputs": [],
   "source": [
    "import pandas as pd\n",
    "import numpy as np\n",
    "\n",
    "from env import get_db_url\n"
   ]
  },
  {
   "cell_type": "markdown",
   "id": "bd6bc598-e222-442e-a74e-117fc2532aee",
   "metadata": {},
   "source": [
    "## Acquire data"
   ]
  },
  {
   "cell_type": "code",
   "execution_count": 58,
   "id": "433003e3-cb94-4c20-ada5-db93521f90e2",
   "metadata": {},
   "outputs": [],
   "source": [
    "def get_zillow_data():\n",
    "    '''\n",
    "    Function will try to return ad database from csv file if file is local and in same directory.\n",
    "    IF file doesn't exist it will create and store in same directory\n",
    "    Otherwise will pull from codeup database.\n",
    "    Must have credentials for codeup database.\n",
    "    '''\n",
    "    try:\n",
    "        csv_info = pd.read_csv('zillow.csv', index_col=0 )\n",
    "        return csv_info\n",
    "    except FileNotFoundError:\n",
    "        url = get_db_url('zillow')\n",
    "        info = pd.read_sql('''\n",
    "            select bedroomcnt, bathroomcnt, calculatedfinishedsquarefeet, taxvaluedollarcnt, yearbuilt, taxamount, fips from properties_2017 \n",
    "            where propertylandusetypeid = 261;\n",
    "        ''', url)\n",
    "        info.to_csv(\"zillow.csv\", index=True)\n",
    "        return info"
   ]
  },
  {
   "cell_type": "code",
   "execution_count": 73,
   "id": "cd5493ba-6255-4276-854b-4b67ff1ffa65",
   "metadata": {},
   "outputs": [],
   "source": [
    "df = get_zillow_data()"
   ]
  },
  {
   "cell_type": "code",
   "execution_count": 69,
   "id": "124c359b-4d7b-4fd2-b9e3-2c981cd7f721",
   "metadata": {},
   "outputs": [
    {
     "name": "stdout",
     "output_type": "stream",
     "text": [
      "<class 'pandas.core.frame.DataFrame'>\n",
      "Int64Index: 2152863 entries, 0 to 2152862\n",
      "Data columns (total 7 columns):\n",
      " #   Column                        Dtype  \n",
      "---  ------                        -----  \n",
      " 0   bedroomcnt                    float64\n",
      " 1   bathroomcnt                   float64\n",
      " 2   calculatedfinishedsquarefeet  float64\n",
      " 3   taxvaluedollarcnt             float64\n",
      " 4   yearbuilt                     float64\n",
      " 5   taxamount                     float64\n",
      " 6   fips                          float64\n",
      "dtypes: float64(7)\n",
      "memory usage: 131.4 MB\n"
     ]
    }
   ],
   "source": [
    "df.info()"
   ]
  },
  {
   "cell_type": "code",
   "execution_count": 91,
   "id": "fad0a970-8830-4165-84b9-9386fec1fb7a",
   "metadata": {},
   "outputs": [
    {
     "data": {
      "text/plain": [
       "(2152863, 7)"
      ]
     },
     "execution_count": 91,
     "metadata": {},
     "output_type": "execute_result"
    }
   ],
   "source": [
    "df.shape"
   ]
  },
  {
   "cell_type": "code",
   "execution_count": 78,
   "id": "357656bc-ef27-4e37-8e9d-53bcff8856bc",
   "metadata": {},
   "outputs": [
    {
     "data": {
      "text/plain": [
       "bedroomcnt                         0\n",
       "bathroomcnt                       11\n",
       "calculatedfinishedsquarefeet    8484\n",
       "taxvaluedollarcnt                493\n",
       "yearbuilt                       9337\n",
       "taxamount                       4442\n",
       "fips                               0\n",
       "dtype: int64"
      ]
     },
     "execution_count": 78,
     "metadata": {},
     "output_type": "execute_result"
    }
   ],
   "source": [
    "df.isnull().sum()"
   ]
  },
  {
   "cell_type": "code",
   "execution_count": 12,
   "id": "476fd6e6-ee02-4269-a9e3-fa3c33a8f71f",
   "metadata": {},
   "outputs": [
    {
     "data": {
      "text/plain": [
       "Index(['bedroomcnt', 'bathroomcnt', 'calculatedfinishedsquarefeet',\n",
       "       'taxvaluedollarcnt', 'yearbuilt', 'taxamount'],\n",
       "      dtype='object')"
      ]
     },
     "execution_count": 12,
     "metadata": {},
     "output_type": "execute_result"
    }
   ],
   "source": [
    "df.columns[df.isnull().any()]"
   ]
  },
  {
   "cell_type": "markdown",
   "id": "b876a6d9-23aa-4c1d-bd6d-35542b1f0e05",
   "metadata": {},
   "source": [
    "## Replace null values for bedroom count"
   ]
  },
  {
   "cell_type": "markdown",
   "id": "990326df-635a-4fa4-b683-bd0f9b4c3842",
   "metadata": {},
   "source": [
    "#### Since there is only 11 null values I'm gonna replace them with the mean value"
   ]
  },
  {
   "cell_type": "code",
   "execution_count": 53,
   "id": "a217d5af-8acb-41b0-9c87-0ce4eac05ce6",
   "metadata": {},
   "outputs": [
    {
     "data": {
      "text/plain": [
       "count    2.152852e+06\n",
       "mean     3.287196e+00\n",
       "std      9.547544e-01\n",
       "min      0.000000e+00\n",
       "25%      3.000000e+00\n",
       "50%      3.000000e+00\n",
       "75%      4.000000e+00\n",
       "max      2.500000e+01\n",
       "Name: bedroomcnt, dtype: float64"
      ]
     },
     "execution_count": 53,
     "metadata": {},
     "output_type": "execute_result"
    }
   ],
   "source": [
    "df.bedroomcnt.describe()"
   ]
  },
  {
   "cell_type": "code",
   "execution_count": 77,
   "id": "e4b65e18-77d6-48d2-b656-6dbf0ff06507",
   "metadata": {},
   "outputs": [],
   "source": [
    "df.bedroomcnt.fillna(3, inplace=True)"
   ]
  },
  {
   "cell_type": "code",
   "execution_count": 79,
   "id": "f0eb8a3b-712a-4773-953c-8d57bad511a1",
   "metadata": {},
   "outputs": [
    {
     "data": {
      "text/plain": [
       "bedroomcnt                         0\n",
       "bathroomcnt                       11\n",
       "calculatedfinishedsquarefeet    8484\n",
       "taxvaluedollarcnt                493\n",
       "yearbuilt                       9337\n",
       "taxamount                       4442\n",
       "fips                               0\n",
       "dtype: int64"
      ]
     },
     "execution_count": 79,
     "metadata": {},
     "output_type": "execute_result"
    }
   ],
   "source": [
    "df.isnull().sum()"
   ]
  },
  {
   "cell_type": "markdown",
   "id": "6a72a869-0dc9-4377-b68b-1ab1646d7b79",
   "metadata": {},
   "source": [
    "## Replace Null Values for bathroom count"
   ]
  },
  {
   "cell_type": "markdown",
   "id": "6e2c8d63-1daa-446c-b084-c621908c2c7a",
   "metadata": {},
   "source": [
    "#### Since there is only 11 null values I'm gonna replace them with the mean value"
   ]
  },
  {
   "cell_type": "code",
   "execution_count": 62,
   "id": "3656576c-0585-4062-89ec-30ef69f11c8e",
   "metadata": {
    "tags": []
   },
   "outputs": [
    {
     "data": {
      "text/plain": [
       "count    2.152852e+06\n",
       "mean     2.230688e+00\n",
       "std      9.992796e-01\n",
       "min      0.000000e+00\n",
       "25%      2.000000e+00\n",
       "50%      2.000000e+00\n",
       "75%      3.000000e+00\n",
       "max      3.200000e+01\n",
       "Name: bathroomcnt, dtype: float64"
      ]
     },
     "execution_count": 62,
     "metadata": {},
     "output_type": "execute_result"
    }
   ],
   "source": [
    "df.bathroomcnt.describe()"
   ]
  },
  {
   "cell_type": "code",
   "execution_count": 80,
   "id": "5c3ecf38-e325-415d-beed-6700aab0e591",
   "metadata": {
    "tags": []
   },
   "outputs": [],
   "source": [
    "df.bathroomcnt.fillna(2, inplace=True)"
   ]
  },
  {
   "cell_type": "markdown",
   "id": "e2eb8ad3-3eac-488b-b36e-d5f43b77dfb9",
   "metadata": {},
   "source": [
    "## drop all Null Values "
   ]
  },
  {
   "cell_type": "markdown",
   "id": "d676c5a2-d93a-47f3-8a21-06df59d62529",
   "metadata": {},
   "source": [
    "#### Since the count of the null values add up to less then a percent of the total dataframe I've decided to drop them. "
   ]
  },
  {
   "cell_type": "code",
   "execution_count": 93,
   "id": "e19e3422-149b-40a1-908f-2b3007878efe",
   "metadata": {},
   "outputs": [
    {
     "data": {
      "text/plain": [
       "bedroomcnt                      0.000000\n",
       "bathroomcnt                     0.000000\n",
       "calculatedfinishedsquarefeet    0.003941\n",
       "taxvaluedollarcnt               0.000229\n",
       "yearbuilt                       0.004337\n",
       "taxamount                       0.002063\n",
       "fips                            0.000000\n",
       "dtype: float64"
      ]
     },
     "execution_count": 93,
     "metadata": {},
     "output_type": "execute_result"
    }
   ],
   "source": [
    "(df.isnull().sum()) / len(df) "
   ]
  },
  {
   "cell_type": "code",
   "execution_count": 90,
   "id": "e3dc4572-80fe-4de6-909d-ee65f0ef697f",
   "metadata": {},
   "outputs": [
    {
     "data": {
      "text/plain": [
       "(2152863, 7)"
      ]
     },
     "execution_count": 90,
     "metadata": {},
     "output_type": "execute_result"
    }
   ],
   "source": [
    "df.shape"
   ]
  },
  {
   "cell_type": "code",
   "execution_count": 82,
   "id": "5ff625e4-da1e-43df-920b-4ea8268fc441",
   "metadata": {},
   "outputs": [
    {
     "data": {
      "text/plain": [
       "count    2.144379e+06\n",
       "mean     1.862855e+03\n",
       "std      1.222125e+03\n",
       "min      1.000000e+00\n",
       "25%      1.257000e+03\n",
       "50%      1.623000e+03\n",
       "75%      2.208000e+03\n",
       "max      9.525760e+05\n",
       "Name: calculatedfinishedsquarefeet, dtype: float64"
      ]
     },
     "execution_count": 82,
     "metadata": {},
     "output_type": "execute_result"
    }
   ],
   "source": [
    "df.calculatedfinishedsquarefeet.describe()"
   ]
  },
  {
   "cell_type": "code",
   "execution_count": 88,
   "id": "6bc7d710-08ca-4f00-a520-e7b92faa4039",
   "metadata": {},
   "outputs": [
    {
     "data": {
      "text/plain": [
       "1862.855177652831"
      ]
     },
     "execution_count": 88,
     "metadata": {},
     "output_type": "execute_result"
    }
   ],
   "source": [
    "df.calculatedfinishedsquarefeet.mean()"
   ]
  },
  {
   "cell_type": "code",
   "execution_count": 96,
   "id": "6a1b4528-883c-4ca6-a056-83255bfc8300",
   "metadata": {},
   "outputs": [],
   "source": [
    "df.dropna(inplace=True)"
   ]
  },
  {
   "cell_type": "code",
   "execution_count": 97,
   "id": "137db2c8-7e35-4f82-85d2-fb1d7b1697a9",
   "metadata": {},
   "outputs": [
    {
     "data": {
      "text/plain": [
       "bedroomcnt                      0\n",
       "bathroomcnt                     0\n",
       "calculatedfinishedsquarefeet    0\n",
       "taxvaluedollarcnt               0\n",
       "yearbuilt                       0\n",
       "taxamount                       0\n",
       "fips                            0\n",
       "dtype: int64"
      ]
     },
     "execution_count": 97,
     "metadata": {},
     "output_type": "execute_result"
    }
   ],
   "source": [
    "df.isnull().sum()"
   ]
  },
  {
   "cell_type": "code",
   "execution_count": 98,
   "id": "47538b3b-e494-4807-9d7c-1fd076a29a32",
   "metadata": {},
   "outputs": [
    {
     "data": {
      "text/plain": [
       "(2140235, 7)"
      ]
     },
     "execution_count": 98,
     "metadata": {},
     "output_type": "execute_result"
    }
   ],
   "source": [
    "df.shape"
   ]
  },
  {
   "cell_type": "code",
   "execution_count": 99,
   "id": "10fd921b-3b78-4668-9514-921ace8e95f0",
   "metadata": {},
   "outputs": [
    {
     "data": {
      "text/html": [
       "<div>\n",
       "<style scoped>\n",
       "    .dataframe tbody tr th:only-of-type {\n",
       "        vertical-align: middle;\n",
       "    }\n",
       "\n",
       "    .dataframe tbody tr th {\n",
       "        vertical-align: top;\n",
       "    }\n",
       "\n",
       "    .dataframe thead th {\n",
       "        text-align: right;\n",
       "    }\n",
       "</style>\n",
       "<table border=\"1\" class=\"dataframe\">\n",
       "  <thead>\n",
       "    <tr style=\"text-align: right;\">\n",
       "      <th></th>\n",
       "      <th>bedroomcnt</th>\n",
       "      <th>bathroomcnt</th>\n",
       "      <th>calculatedfinishedsquarefeet</th>\n",
       "      <th>taxvaluedollarcnt</th>\n",
       "      <th>yearbuilt</th>\n",
       "      <th>taxamount</th>\n",
       "      <th>fips</th>\n",
       "    </tr>\n",
       "  </thead>\n",
       "  <tbody>\n",
       "    <tr>\n",
       "      <th>4</th>\n",
       "      <td>4.0</td>\n",
       "      <td>2.0</td>\n",
       "      <td>3633.0</td>\n",
       "      <td>296425.0</td>\n",
       "      <td>2005.0</td>\n",
       "      <td>6941.39</td>\n",
       "      <td>6037.0</td>\n",
       "    </tr>\n",
       "    <tr>\n",
       "      <th>6</th>\n",
       "      <td>3.0</td>\n",
       "      <td>4.0</td>\n",
       "      <td>1620.0</td>\n",
       "      <td>847770.0</td>\n",
       "      <td>2011.0</td>\n",
       "      <td>10244.94</td>\n",
       "      <td>6037.0</td>\n",
       "    </tr>\n",
       "    <tr>\n",
       "      <th>7</th>\n",
       "      <td>3.0</td>\n",
       "      <td>2.0</td>\n",
       "      <td>2077.0</td>\n",
       "      <td>646760.0</td>\n",
       "      <td>1926.0</td>\n",
       "      <td>7924.68</td>\n",
       "      <td>6037.0</td>\n",
       "    </tr>\n",
       "    <tr>\n",
       "      <th>11</th>\n",
       "      <td>0.0</td>\n",
       "      <td>0.0</td>\n",
       "      <td>1200.0</td>\n",
       "      <td>5328.0</td>\n",
       "      <td>1972.0</td>\n",
       "      <td>91.60</td>\n",
       "      <td>6037.0</td>\n",
       "    </tr>\n",
       "    <tr>\n",
       "      <th>14</th>\n",
       "      <td>0.0</td>\n",
       "      <td>0.0</td>\n",
       "      <td>171.0</td>\n",
       "      <td>6920.0</td>\n",
       "      <td>1973.0</td>\n",
       "      <td>255.17</td>\n",
       "      <td>6037.0</td>\n",
       "    </tr>\n",
       "  </tbody>\n",
       "</table>\n",
       "</div>"
      ],
      "text/plain": [
       "    bedroomcnt  bathroomcnt  calculatedfinishedsquarefeet  taxvaluedollarcnt  \\\n",
       "4          4.0          2.0                        3633.0           296425.0   \n",
       "6          3.0          4.0                        1620.0           847770.0   \n",
       "7          3.0          2.0                        2077.0           646760.0   \n",
       "11         0.0          0.0                        1200.0             5328.0   \n",
       "14         0.0          0.0                         171.0             6920.0   \n",
       "\n",
       "    yearbuilt  taxamount    fips  \n",
       "4      2005.0    6941.39  6037.0  \n",
       "6      2011.0   10244.94  6037.0  \n",
       "7      1926.0    7924.68  6037.0  \n",
       "11     1972.0      91.60  6037.0  \n",
       "14     1973.0     255.17  6037.0  "
      ]
     },
     "execution_count": 99,
     "metadata": {},
     "output_type": "execute_result"
    }
   ],
   "source": [
    "df.head()"
   ]
  },
  {
   "cell_type": "markdown",
   "id": "b3f7f4aa-4363-4bb8-8dde-0c9157b25f71",
   "metadata": {},
   "source": [
    "## Changing data types "
   ]
  },
  {
   "cell_type": "markdown",
   "id": "ade05671-9dd7-43e5-8073-cf408e99a948",
   "metadata": {},
   "source": [
    "#### A lot of the values that are floats that do not need to be floats ending with (.0), So I've decided to convert them to intergers instead of floats"
   ]
  },
  {
   "cell_type": "code",
   "execution_count": 101,
   "id": "fcff5024-0bf4-4b30-9ebb-7cc1733da061",
   "metadata": {},
   "outputs": [],
   "source": [
    "df.bedroomcnt = df.bedroomcnt.astype(int)"
   ]
  },
  {
   "cell_type": "code",
   "execution_count": 102,
   "id": "9da503e1-43d0-463b-9704-76a63585b84b",
   "metadata": {},
   "outputs": [],
   "source": [
    "df.bathroomcnt = df.bathroomcnt.astype(int)"
   ]
  },
  {
   "cell_type": "code",
   "execution_count": 105,
   "id": "529f68d0-14e5-4802-b7b0-4e145113a8ea",
   "metadata": {},
   "outputs": [],
   "source": [
    "df.yearbuilt = df.yearbuilt.astype(int)"
   ]
  },
  {
   "cell_type": "code",
   "execution_count": 109,
   "id": "c581a0fa-5143-4128-8bb4-4a6200d4776d",
   "metadata": {},
   "outputs": [],
   "source": [
    "df.fips = df.fips.astype(int)"
   ]
  },
  {
   "cell_type": "code",
   "execution_count": 112,
   "id": "be45c653-da20-46b4-9f3b-4754994bce23",
   "metadata": {},
   "outputs": [],
   "source": [
    "df.calculatedfinishedsquarefeet = df.calculatedfinishedsquarefeet.astype(int)"
   ]
  },
  {
   "cell_type": "code",
   "execution_count": 111,
   "id": "a4d38e15-dd65-4eff-b219-35a38e19e547",
   "metadata": {},
   "outputs": [
    {
     "data": {
      "text/plain": [
       "True    2140235\n",
       "Name: calculatedfinishedsquarefeet, dtype: int64"
      ]
     },
     "execution_count": 111,
     "metadata": {},
     "output_type": "execute_result"
    }
   ],
   "source": [
    "(df.calculatedfinishedsquarefeet == df.calculatedfinishedsquarefeet.astype(int)).value_counts()"
   ]
  },
  {
   "cell_type": "code",
   "execution_count": 113,
   "id": "55c36de6-7286-4a4e-ade0-9efda0329f60",
   "metadata": {},
   "outputs": [
    {
     "data": {
      "text/html": [
       "<div>\n",
       "<style scoped>\n",
       "    .dataframe tbody tr th:only-of-type {\n",
       "        vertical-align: middle;\n",
       "    }\n",
       "\n",
       "    .dataframe tbody tr th {\n",
       "        vertical-align: top;\n",
       "    }\n",
       "\n",
       "    .dataframe thead th {\n",
       "        text-align: right;\n",
       "    }\n",
       "</style>\n",
       "<table border=\"1\" class=\"dataframe\">\n",
       "  <thead>\n",
       "    <tr style=\"text-align: right;\">\n",
       "      <th></th>\n",
       "      <th>bedroomcnt</th>\n",
       "      <th>bathroomcnt</th>\n",
       "      <th>calculatedfinishedsquarefeet</th>\n",
       "      <th>taxvaluedollarcnt</th>\n",
       "      <th>yearbuilt</th>\n",
       "      <th>taxamount</th>\n",
       "      <th>fips</th>\n",
       "    </tr>\n",
       "  </thead>\n",
       "  <tbody>\n",
       "    <tr>\n",
       "      <th>4</th>\n",
       "      <td>4</td>\n",
       "      <td>2</td>\n",
       "      <td>3633</td>\n",
       "      <td>296425.0</td>\n",
       "      <td>2005</td>\n",
       "      <td>6941.39</td>\n",
       "      <td>6037</td>\n",
       "    </tr>\n",
       "    <tr>\n",
       "      <th>6</th>\n",
       "      <td>3</td>\n",
       "      <td>4</td>\n",
       "      <td>1620</td>\n",
       "      <td>847770.0</td>\n",
       "      <td>2011</td>\n",
       "      <td>10244.94</td>\n",
       "      <td>6037</td>\n",
       "    </tr>\n",
       "    <tr>\n",
       "      <th>7</th>\n",
       "      <td>3</td>\n",
       "      <td>2</td>\n",
       "      <td>2077</td>\n",
       "      <td>646760.0</td>\n",
       "      <td>1926</td>\n",
       "      <td>7924.68</td>\n",
       "      <td>6037</td>\n",
       "    </tr>\n",
       "    <tr>\n",
       "      <th>11</th>\n",
       "      <td>0</td>\n",
       "      <td>0</td>\n",
       "      <td>1200</td>\n",
       "      <td>5328.0</td>\n",
       "      <td>1972</td>\n",
       "      <td>91.60</td>\n",
       "      <td>6037</td>\n",
       "    </tr>\n",
       "    <tr>\n",
       "      <th>14</th>\n",
       "      <td>0</td>\n",
       "      <td>0</td>\n",
       "      <td>171</td>\n",
       "      <td>6920.0</td>\n",
       "      <td>1973</td>\n",
       "      <td>255.17</td>\n",
       "      <td>6037</td>\n",
       "    </tr>\n",
       "  </tbody>\n",
       "</table>\n",
       "</div>"
      ],
      "text/plain": [
       "    bedroomcnt  bathroomcnt  calculatedfinishedsquarefeet  taxvaluedollarcnt  \\\n",
       "4            4            2                          3633           296425.0   \n",
       "6            3            4                          1620           847770.0   \n",
       "7            3            2                          2077           646760.0   \n",
       "11           0            0                          1200             5328.0   \n",
       "14           0            0                           171             6920.0   \n",
       "\n",
       "    yearbuilt  taxamount  fips  \n",
       "4        2005    6941.39  6037  \n",
       "6        2011   10244.94  6037  \n",
       "7        1926    7924.68  6037  \n",
       "11       1972      91.60  6037  \n",
       "14       1973     255.17  6037  "
      ]
     },
     "execution_count": 113,
     "metadata": {},
     "output_type": "execute_result"
    }
   ],
   "source": [
    "df.head()"
   ]
  }
 ],
 "metadata": {
  "kernelspec": {
   "display_name": "Python 3 (ipykernel)",
   "language": "python",
   "name": "python3"
  },
  "language_info": {
   "codemirror_mode": {
    "name": "ipython",
    "version": 3
   },
   "file_extension": ".py",
   "mimetype": "text/x-python",
   "name": "python",
   "nbconvert_exporter": "python",
   "pygments_lexer": "ipython3",
   "version": "3.9.13"
  }
 },
 "nbformat": 4,
 "nbformat_minor": 5
}
