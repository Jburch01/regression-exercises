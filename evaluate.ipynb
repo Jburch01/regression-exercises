{
 "cells": [
  {
   "cell_type": "markdown",
   "id": "35d2c915-b58a-4df9-a26d-c9f16937837f",
   "metadata": {},
   "source": [
    "# Exercises\n"
   ]
  },
  {
   "cell_type": "markdown",
   "id": "d6c7b1a3-0321-4ba7-8b7f-93d17109fa9c",
   "metadata": {},
   "source": [
    "### Evaluating Regression"
   ]
  },
  {
   "cell_type": "code",
   "execution_count": 1,
   "id": "2517780f-4989-480d-97e9-7ba59959254a",
   "metadata": {},
   "outputs": [],
   "source": [
    "from wrangle import wrangle_zillow\n",
    "import pandas as pd\n",
    "import numpy as np\n",
    "\n",
    "import matplotlib.pyplot as plt\n",
    "import seaborn as sns\n",
    "from sklearn.linear_model import LinearRegression#import r2_score from sklearn\n",
    "\n",
    "from sklearn.metrics import r2_score"
   ]
  },
  {
   "cell_type": "code",
   "execution_count": null,
   "id": "2458c822-8908-4aae-bcda-8985af755ec7",
   "metadata": {},
   "outputs": [],
   "source": []
  },
  {
   "cell_type": "markdown",
   "id": "3f38c64d-7d4c-409d-993a-0d5956be5166",
   "metadata": {},
   "source": [
    "#### Getting zillow data"
   ]
  },
  {
   "cell_type": "code",
   "execution_count": 3,
   "id": "cabbc6bc-9554-44af-b6c9-be2d405c7bd4",
   "metadata": {},
   "outputs": [
    {
     "name": "stdout",
     "output_type": "stream",
     "text": [
      "<class 'numpy.float64'>\n",
      "1.5\n",
      "<class 'numpy.float64'>\n",
      "0.5\n",
      "<class 'numpy.float64'>\n",
      "-169.5\n",
      "<class 'numpy.float64'>\n",
      "-331365.5\n",
      "<class 'numpy.float64'>\n",
      "-3284.045\n"
     ]
    }
   ],
   "source": [
    "train, validate, test = wrangle_zillow()"
   ]
  },
  {
   "cell_type": "code",
   "execution_count": 15,
   "id": "0510c1a5-8773-4c65-928b-56fcfb6c8ec3",
   "metadata": {
    "tags": []
   },
   "outputs": [
    {
     "data": {
      "text/html": [
       "<div>\n",
       "<style scoped>\n",
       "    .dataframe tbody tr th:only-of-type {\n",
       "        vertical-align: middle;\n",
       "    }\n",
       "\n",
       "    .dataframe tbody tr th {\n",
       "        vertical-align: top;\n",
       "    }\n",
       "\n",
       "    .dataframe thead th {\n",
       "        text-align: right;\n",
       "    }\n",
       "</style>\n",
       "<table border=\"1\" class=\"dataframe\">\n",
       "  <thead>\n",
       "    <tr style=\"text-align: right;\">\n",
       "      <th></th>\n",
       "      <th>bedrooms</th>\n",
       "      <th>bathrooms</th>\n",
       "      <th>area</th>\n",
       "      <th>tax_value</th>\n",
       "      <th>year_built</th>\n",
       "      <th>taxamount</th>\n",
       "      <th>fips</th>\n",
       "    </tr>\n",
       "  </thead>\n",
       "  <tbody>\n",
       "    <tr>\n",
       "      <th>898710</th>\n",
       "      <td>5.0</td>\n",
       "      <td>3.0</td>\n",
       "      <td>3349.0</td>\n",
       "      <td>208996.0</td>\n",
       "      <td>1964.0</td>\n",
       "      <td>2815.98</td>\n",
       "      <td>6037.0</td>\n",
       "    </tr>\n",
       "    <tr>\n",
       "      <th>951392</th>\n",
       "      <td>4.0</td>\n",
       "      <td>3.0</td>\n",
       "      <td>1985.0</td>\n",
       "      <td>259657.0</td>\n",
       "      <td>1977.0</td>\n",
       "      <td>3743.23</td>\n",
       "      <td>6037.0</td>\n",
       "    </tr>\n",
       "    <tr>\n",
       "      <th>1847439</th>\n",
       "      <td>3.0</td>\n",
       "      <td>1.0</td>\n",
       "      <td>1616.0</td>\n",
       "      <td>28940.0</td>\n",
       "      <td>1920.0</td>\n",
       "      <td>829.60</td>\n",
       "      <td>6037.0</td>\n",
       "    </tr>\n",
       "    <tr>\n",
       "      <th>706503</th>\n",
       "      <td>4.0</td>\n",
       "      <td>2.5</td>\n",
       "      <td>2028.0</td>\n",
       "      <td>87633.0</td>\n",
       "      <td>1972.0</td>\n",
       "      <td>1321.00</td>\n",
       "      <td>6111.0</td>\n",
       "    </tr>\n",
       "    <tr>\n",
       "      <th>461225</th>\n",
       "      <td>2.0</td>\n",
       "      <td>2.0</td>\n",
       "      <td>1138.0</td>\n",
       "      <td>46382.0</td>\n",
       "      <td>1958.0</td>\n",
       "      <td>583.19</td>\n",
       "      <td>6037.0</td>\n",
       "    </tr>\n",
       "  </tbody>\n",
       "</table>\n",
       "</div>"
      ],
      "text/plain": [
       "         bedrooms  bathrooms    area  tax_value year_built  taxamount    fips\n",
       "898710        5.0        3.0  3349.0   208996.0     1964.0    2815.98  6037.0\n",
       "951392        4.0        3.0  1985.0   259657.0     1977.0    3743.23  6037.0\n",
       "1847439       3.0        1.0  1616.0    28940.0     1920.0     829.60  6037.0\n",
       "706503        4.0        2.5  2028.0    87633.0     1972.0    1321.00  6111.0\n",
       "461225        2.0        2.0  1138.0    46382.0     1958.0     583.19  6037.0"
      ]
     },
     "execution_count": 15,
     "metadata": {},
     "output_type": "execute_result"
    }
   ],
   "source": [
    "train.head()\n"
   ]
  },
  {
   "cell_type": "code",
   "execution_count": 4,
   "id": "8f1f7687-0c2c-4c9a-8f1e-c7a6247bbd7f",
   "metadata": {},
   "outputs": [],
   "source": [
    "df = train.copy()\n",
    "df = df.drop(columns= ['bedrooms', 'bathrooms', 'year_built', 'taxamount', 'fips'])\n"
   ]
  },
  {
   "cell_type": "code",
   "execution_count": 5,
   "id": "836adee4-76a2-4857-bdd3-f9a5164e11d9",
   "metadata": {},
   "outputs": [
    {
     "data": {
      "text/html": [
       "<div>\n",
       "<style scoped>\n",
       "    .dataframe tbody tr th:only-of-type {\n",
       "        vertical-align: middle;\n",
       "    }\n",
       "\n",
       "    .dataframe tbody tr th {\n",
       "        vertical-align: top;\n",
       "    }\n",
       "\n",
       "    .dataframe thead th {\n",
       "        text-align: right;\n",
       "    }\n",
       "</style>\n",
       "<table border=\"1\" class=\"dataframe\">\n",
       "  <thead>\n",
       "    <tr style=\"text-align: right;\">\n",
       "      <th></th>\n",
       "      <th>area</th>\n",
       "      <th>tax_value</th>\n",
       "    </tr>\n",
       "  </thead>\n",
       "  <tbody>\n",
       "    <tr>\n",
       "      <th>898710</th>\n",
       "      <td>3349.0</td>\n",
       "      <td>208996.0</td>\n",
       "    </tr>\n",
       "    <tr>\n",
       "      <th>951392</th>\n",
       "      <td>1985.0</td>\n",
       "      <td>259657.0</td>\n",
       "    </tr>\n",
       "    <tr>\n",
       "      <th>1847439</th>\n",
       "      <td>1616.0</td>\n",
       "      <td>28940.0</td>\n",
       "    </tr>\n",
       "    <tr>\n",
       "      <th>706503</th>\n",
       "      <td>2028.0</td>\n",
       "      <td>87633.0</td>\n",
       "    </tr>\n",
       "    <tr>\n",
       "      <th>461225</th>\n",
       "      <td>1138.0</td>\n",
       "      <td>46382.0</td>\n",
       "    </tr>\n",
       "    <tr>\n",
       "      <th>...</th>\n",
       "      <td>...</td>\n",
       "      <td>...</td>\n",
       "    </tr>\n",
       "    <tr>\n",
       "      <th>1025016</th>\n",
       "      <td>1434.0</td>\n",
       "      <td>62992.0</td>\n",
       "    </tr>\n",
       "    <tr>\n",
       "      <th>1734384</th>\n",
       "      <td>1336.0</td>\n",
       "      <td>540464.0</td>\n",
       "    </tr>\n",
       "    <tr>\n",
       "      <th>1121629</th>\n",
       "      <td>1739.0</td>\n",
       "      <td>513043.0</td>\n",
       "    </tr>\n",
       "    <tr>\n",
       "      <th>533946</th>\n",
       "      <td>1707.0</td>\n",
       "      <td>157328.0</td>\n",
       "    </tr>\n",
       "    <tr>\n",
       "      <th>358089</th>\n",
       "      <td>1914.0</td>\n",
       "      <td>324451.0</td>\n",
       "    </tr>\n",
       "  </tbody>\n",
       "</table>\n",
       "<p>1068354 rows × 2 columns</p>\n",
       "</div>"
      ],
      "text/plain": [
       "           area  tax_value\n",
       "898710   3349.0   208996.0\n",
       "951392   1985.0   259657.0\n",
       "1847439  1616.0    28940.0\n",
       "706503   2028.0    87633.0\n",
       "461225   1138.0    46382.0\n",
       "...         ...        ...\n",
       "1025016  1434.0    62992.0\n",
       "1734384  1336.0   540464.0\n",
       "1121629  1739.0   513043.0\n",
       "533946   1707.0   157328.0\n",
       "358089   1914.0   324451.0\n",
       "\n",
       "[1068354 rows x 2 columns]"
      ]
     },
     "execution_count": 5,
     "metadata": {},
     "output_type": "execute_result"
    }
   ],
   "source": [
    "df"
   ]
  },
  {
   "cell_type": "code",
   "execution_count": 6,
   "id": "7178eb9b-35fe-44d4-aef7-3c7e84f0f439",
   "metadata": {},
   "outputs": [],
   "source": [
    "X = df[['area']]\n",
    "y = df['tax_value']"
   ]
  },
  {
   "cell_type": "code",
   "execution_count": 7,
   "id": "ebd19dbc-2084-4791-8a20-335badb6eb51",
   "metadata": {},
   "outputs": [
    {
     "data": {
      "text/plain": [
       "341819.93"
      ]
     },
     "execution_count": 7,
     "metadata": {},
     "output_type": "execute_result"
    }
   ],
   "source": [
    "baseline = round(train.tax_value.mean(), 2)\n",
    "baseline\n"
   ]
  },
  {
   "cell_type": "code",
   "execution_count": 8,
   "id": "4e7e6c27-0255-4262-9147-ce5dd76be07c",
   "metadata": {},
   "outputs": [],
   "source": [
    "df['baseline'] = baseline"
   ]
  },
  {
   "cell_type": "code",
   "execution_count": 97,
   "id": "353f4221-24eb-4a5e-a99b-8c756c02696f",
   "metadata": {},
   "outputs": [
    {
     "data": {
      "text/html": [
       "<div>\n",
       "<style scoped>\n",
       "    .dataframe tbody tr th:only-of-type {\n",
       "        vertical-align: middle;\n",
       "    }\n",
       "\n",
       "    .dataframe tbody tr th {\n",
       "        vertical-align: top;\n",
       "    }\n",
       "\n",
       "    .dataframe thead th {\n",
       "        text-align: right;\n",
       "    }\n",
       "</style>\n",
       "<table border=\"1\" class=\"dataframe\">\n",
       "  <thead>\n",
       "    <tr style=\"text-align: right;\">\n",
       "      <th></th>\n",
       "      <th>area</th>\n",
       "      <th>tax_value</th>\n",
       "      <th>baseline</th>\n",
       "    </tr>\n",
       "  </thead>\n",
       "  <tbody>\n",
       "    <tr>\n",
       "      <th>898710</th>\n",
       "      <td>3349.0</td>\n",
       "      <td>208996.0</td>\n",
       "      <td>341819.93</td>\n",
       "    </tr>\n",
       "    <tr>\n",
       "      <th>951392</th>\n",
       "      <td>1985.0</td>\n",
       "      <td>259657.0</td>\n",
       "      <td>341819.93</td>\n",
       "    </tr>\n",
       "    <tr>\n",
       "      <th>1847439</th>\n",
       "      <td>1616.0</td>\n",
       "      <td>28940.0</td>\n",
       "      <td>341819.93</td>\n",
       "    </tr>\n",
       "    <tr>\n",
       "      <th>706503</th>\n",
       "      <td>2028.0</td>\n",
       "      <td>87633.0</td>\n",
       "      <td>341819.93</td>\n",
       "    </tr>\n",
       "    <tr>\n",
       "      <th>461225</th>\n",
       "      <td>1138.0</td>\n",
       "      <td>46382.0</td>\n",
       "      <td>341819.93</td>\n",
       "    </tr>\n",
       "    <tr>\n",
       "      <th>...</th>\n",
       "      <td>...</td>\n",
       "      <td>...</td>\n",
       "      <td>...</td>\n",
       "    </tr>\n",
       "    <tr>\n",
       "      <th>1025016</th>\n",
       "      <td>1434.0</td>\n",
       "      <td>62992.0</td>\n",
       "      <td>341819.93</td>\n",
       "    </tr>\n",
       "    <tr>\n",
       "      <th>1734384</th>\n",
       "      <td>1336.0</td>\n",
       "      <td>540464.0</td>\n",
       "      <td>341819.93</td>\n",
       "    </tr>\n",
       "    <tr>\n",
       "      <th>1121629</th>\n",
       "      <td>1739.0</td>\n",
       "      <td>513043.0</td>\n",
       "      <td>341819.93</td>\n",
       "    </tr>\n",
       "    <tr>\n",
       "      <th>533946</th>\n",
       "      <td>1707.0</td>\n",
       "      <td>157328.0</td>\n",
       "      <td>341819.93</td>\n",
       "    </tr>\n",
       "    <tr>\n",
       "      <th>358089</th>\n",
       "      <td>1914.0</td>\n",
       "      <td>324451.0</td>\n",
       "      <td>341819.93</td>\n",
       "    </tr>\n",
       "  </tbody>\n",
       "</table>\n",
       "<p>1068354 rows × 3 columns</p>\n",
       "</div>"
      ],
      "text/plain": [
       "           area  tax_value   baseline\n",
       "898710   3349.0   208996.0  341819.93\n",
       "951392   1985.0   259657.0  341819.93\n",
       "1847439  1616.0    28940.0  341819.93\n",
       "706503   2028.0    87633.0  341819.93\n",
       "461225   1138.0    46382.0  341819.93\n",
       "...         ...        ...        ...\n",
       "1025016  1434.0    62992.0  341819.93\n",
       "1734384  1336.0   540464.0  341819.93\n",
       "1121629  1739.0   513043.0  341819.93\n",
       "533946   1707.0   157328.0  341819.93\n",
       "358089   1914.0   324451.0  341819.93\n",
       "\n",
       "[1068354 rows x 3 columns]"
      ]
     },
     "execution_count": 97,
     "metadata": {},
     "output_type": "execute_result"
    }
   ],
   "source": [
    "df"
   ]
  },
  {
   "cell_type": "code",
   "execution_count": 98,
   "id": "6705510c-e738-4f38-9132-638103cdddc6",
   "metadata": {},
   "outputs": [
    {
     "data": {
      "image/png": "[encoded data removed]",
      "text/plain": [
       "<Figure size 640x480 with 1 Axes>"
      ]
     },
     "metadata": {},
     "output_type": "display_data"
    }
   ],
   "source": [
    "# plot data with baseline:\n",
    "\n",
    "plt.scatter(X, y)\n",
    "plt.axhline(yhat_baseline, ls=\":\", color='r')\n",
    "\n",
    "plt.xlabel(\"Area\")\n",
    "plt.ylabel(\"tax_value\")\n",
    "plt.title(\"Baseline Model\")\n",
    "plt.show()"
   ]
  },
  {
   "cell_type": "code",
   "execution_count": 9,
   "id": "0ab3625b-a168-4c88-bdf1-436c9da169b4",
   "metadata": {},
   "outputs": [
    {
     "data": {
      "text/html": [
       "<div>\n",
       "<style scoped>\n",
       "    .dataframe tbody tr th:only-of-type {\n",
       "        vertical-align: middle;\n",
       "    }\n",
       "\n",
       "    .dataframe tbody tr th {\n",
       "        vertical-align: top;\n",
       "    }\n",
       "\n",
       "    .dataframe thead th {\n",
       "        text-align: right;\n",
       "    }\n",
       "</style>\n",
       "<table border=\"1\" class=\"dataframe\">\n",
       "  <thead>\n",
       "    <tr style=\"text-align: right;\">\n",
       "      <th></th>\n",
       "      <th>area</th>\n",
       "      <th>tax_value</th>\n",
       "      <th>baseline</th>\n",
       "      <th>predictions</th>\n",
       "      <th>baseline_residuals</th>\n",
       "      <th>residuals</th>\n",
       "    </tr>\n",
       "  </thead>\n",
       "  <tbody>\n",
       "    <tr>\n",
       "      <th>898710</th>\n",
       "      <td>3349.0</td>\n",
       "      <td>208996.0</td>\n",
       "      <td>341819.93</td>\n",
       "      <td>616770.136823</td>\n",
       "      <td>-132823.93</td>\n",
       "      <td>-407774.136823</td>\n",
       "    </tr>\n",
       "    <tr>\n",
       "      <th>951392</th>\n",
       "      <td>1985.0</td>\n",
       "      <td>259657.0</td>\n",
       "      <td>341819.93</td>\n",
       "      <td>391917.653737</td>\n",
       "      <td>-82162.93</td>\n",
       "      <td>-132260.653737</td>\n",
       "    </tr>\n",
       "    <tr>\n",
       "      <th>1847439</th>\n",
       "      <td>1616.0</td>\n",
       "      <td>28940.0</td>\n",
       "      <td>341819.93</td>\n",
       "      <td>331088.792844</td>\n",
       "      <td>-312879.93</td>\n",
       "      <td>-302148.792844</td>\n",
       "    </tr>\n",
       "    <tr>\n",
       "      <th>706503</th>\n",
       "      <td>2028.0</td>\n",
       "      <td>87633.0</td>\n",
       "      <td>341819.93</td>\n",
       "      <td>399006.111782</td>\n",
       "      <td>-254186.93</td>\n",
       "      <td>-311373.111782</td>\n",
       "    </tr>\n",
       "    <tr>\n",
       "      <th>461225</th>\n",
       "      <td>1138.0</td>\n",
       "      <td>46382.0</td>\n",
       "      <td>341819.93</td>\n",
       "      <td>252291.515047</td>\n",
       "      <td>-295437.93</td>\n",
       "      <td>-205909.515047</td>\n",
       "    </tr>\n",
       "    <tr>\n",
       "      <th>...</th>\n",
       "      <td>...</td>\n",
       "      <td>...</td>\n",
       "      <td>...</td>\n",
       "      <td>...</td>\n",
       "      <td>...</td>\n",
       "      <td>...</td>\n",
       "    </tr>\n",
       "    <tr>\n",
       "      <th>1025016</th>\n",
       "      <td>1434.0</td>\n",
       "      <td>62992.0</td>\n",
       "      <td>341819.93</td>\n",
       "      <td>301086.482051</td>\n",
       "      <td>-278827.93</td>\n",
       "      <td>-238094.482051</td>\n",
       "    </tr>\n",
       "    <tr>\n",
       "      <th>1734384</th>\n",
       "      <td>1336.0</td>\n",
       "      <td>540464.0</td>\n",
       "      <td>341819.93</td>\n",
       "      <td>284931.391624</td>\n",
       "      <td>198644.07</td>\n",
       "      <td>255532.608376</td>\n",
       "    </tr>\n",
       "    <tr>\n",
       "      <th>1121629</th>\n",
       "      <td>1739.0</td>\n",
       "      <td>513043.0</td>\n",
       "      <td>341819.93</td>\n",
       "      <td>351365.079808</td>\n",
       "      <td>171223.07</td>\n",
       "      <td>161677.920192</td>\n",
       "    </tr>\n",
       "    <tr>\n",
       "      <th>533946</th>\n",
       "      <td>1707.0</td>\n",
       "      <td>157328.0</td>\n",
       "      <td>341819.93</td>\n",
       "      <td>346089.948240</td>\n",
       "      <td>-184491.93</td>\n",
       "      <td>-188761.948240</td>\n",
       "    </tr>\n",
       "    <tr>\n",
       "      <th>358089</th>\n",
       "      <td>1914.0</td>\n",
       "      <td>324451.0</td>\n",
       "      <td>341819.93</td>\n",
       "      <td>380213.455571</td>\n",
       "      <td>-17368.93</td>\n",
       "      <td>-55762.455571</td>\n",
       "    </tr>\n",
       "  </tbody>\n",
       "</table>\n",
       "<p>1068354 rows × 6 columns</p>\n",
       "</div>"
      ],
      "text/plain": [
       "           area  tax_value   baseline    predictions  baseline_residuals  \\\n",
       "898710   3349.0   208996.0  341819.93  616770.136823          -132823.93   \n",
       "951392   1985.0   259657.0  341819.93  391917.653737           -82162.93   \n",
       "1847439  1616.0    28940.0  341819.93  331088.792844          -312879.93   \n",
       "706503   2028.0    87633.0  341819.93  399006.111782          -254186.93   \n",
       "461225   1138.0    46382.0  341819.93  252291.515047          -295437.93   \n",
       "...         ...        ...        ...            ...                 ...   \n",
       "1025016  1434.0    62992.0  341819.93  301086.482051          -278827.93   \n",
       "1734384  1336.0   540464.0  341819.93  284931.391624           198644.07   \n",
       "1121629  1739.0   513043.0  341819.93  351365.079808           171223.07   \n",
       "533946   1707.0   157328.0  341819.93  346089.948240          -184491.93   \n",
       "358089   1914.0   324451.0  341819.93  380213.455571           -17368.93   \n",
       "\n",
       "             residuals  \n",
       "898710  -407774.136823  \n",
       "951392  -132260.653737  \n",
       "1847439 -302148.792844  \n",
       "706503  -311373.111782  \n",
       "461225  -205909.515047  \n",
       "...                ...  \n",
       "1025016 -238094.482051  \n",
       "1734384  255532.608376  \n",
       "1121629  161677.920192  \n",
       "533946  -188761.948240  \n",
       "358089   -55762.455571  \n",
       "\n",
       "[1068354 rows x 6 columns]"
      ]
     },
     "execution_count": 9,
     "metadata": {},
     "output_type": "execute_result"
    }
   ],
   "source": [
    "\n",
    "# assuming X and y are already defined\n",
    "model = LinearRegression().fit(X, y)\n",
    "predictions = model.predict(X)\n",
    "\n",
    "df['predictions'] = predictions\n",
    "\n",
    "residuals = y - predictions\n",
    "residuals\n",
    "\n",
    "baseline_residuals = y - baseline\n",
    "baseline_residuals\n",
    "df['baseline_residuals'] = baseline_residuals\n",
    "df['residuals'] = residuals\n",
    "df"
   ]
  },
  {
   "cell_type": "code",
   "execution_count": null,
   "id": "a97d34c5-ac66-46af-b237-184bb5a6b8f4",
   "metadata": {},
   "outputs": [],
   "source": []
  },
  {
   "cell_type": "code",
   "execution_count": 41,
   "id": "b762ccdb-f304-4abf-9292-c04337725d72",
   "metadata": {
    "jupyter": {
     "source_hidden": true
    },
    "tags": []
   },
   "outputs": [
    {
     "data": {
      "text/plain": [
       "array([616770.1368227 , 391917.65373715, 331088.79284377, ...,\n",
       "       351365.07980823, 346089.94824024, 380213.45557067])"
      ]
     },
     "execution_count": 41,
     "metadata": {},
     "output_type": "execute_result"
    }
   ],
   "source": [
    "predictions"
   ]
  },
  {
   "cell_type": "markdown",
   "id": "2dcb8709-fda6-45f1-873e-dd429c99df01",
   "metadata": {},
   "source": [
    "#### Plot the residuals for the linear regression model that you made."
   ]
  },
  {
   "cell_type": "code",
   "execution_count": 56,
   "id": "3bc457b0-9010-4e6c-a4f2-5b8e7ba339cf",
   "metadata": {},
   "outputs": [
    {
     "data": {
      "image/png": "[encoded data removed]",
      "text/plain": [
       "<Figure size 640x480 with 1 Axes>"
      ]
     },
     "metadata": {},
     "output_type": "display_data"
    }
   ],
   "source": [
    "# plot data with baseline:\n",
    "\n",
    "plt.scatter(residuals, y)\n",
    "\n",
    "\n",
    "plt.xlabel('Residuals')\n",
    "plt.ylabel(\"tax_value\")\n",
    "plt.title(\"prediction Model\")\n",
    "plt.show()"
   ]
  },
  {
   "cell_type": "code",
   "execution_count": null,
   "id": "61760c77-35a3-4954-bdbc-4499676632ee",
   "metadata": {},
   "outputs": [],
   "source": []
  },
  {
   "cell_type": "markdown",
   "id": "90a85ecb-8dd2-4e83-a563-8d441f09c773",
   "metadata": {},
   "source": [
    "#### Calculate the sum of squared errors, explained sum of squares, total sum of squares, mean squared error, and root mean squared error for your model."
   ]
  },
  {
   "cell_type": "code",
   "execution_count": 12,
   "id": "a7c98503-e434-41fb-8b95-89eb237260eb",
   "metadata": {},
   "outputs": [],
   "source": [
    "df['baseline_residual_2'] = df.baseline_residuals**2\n",
    "df['residual_2']= df.residuals**2\n",
    "\n"
   ]
  },
  {
   "cell_type": "code",
   "execution_count": 13,
   "id": "7ad5b4de-3c8f-4787-9b9b-e45c418ec812",
   "metadata": {},
   "outputs": [],
   "source": [
    "#add the residuals together\n",
    "SSE_baseline = df.baseline_residual_2.sum()\n",
    "SSE = df.residual_2.sum()"
   ]
  },
  {
   "cell_type": "code",
   "execution_count": 14,
   "id": "b5f634a2-121f-44e1-a8a4-8456e9ea2e6a",
   "metadata": {},
   "outputs": [
    {
     "name": "stdout",
     "output_type": "stream",
     "text": [
      "SSE Baseline =  49619292856699264.0\n",
      "SSE = 39420837365639056.0\n"
     ]
    }
   ],
   "source": [
    "print(f\"SSE Baseline = {SSE_baseline: .1f}\")\n",
    "print(f\"SSE = {SSE:.1f}\")"
   ]
  },
  {
   "cell_type": "code",
   "execution_count": 15,
   "id": "15ddf878-32ef-4d7b-8437-1161855296bc",
   "metadata": {},
   "outputs": [
    {
     "name": "stdout",
     "output_type": "stream",
     "text": [
      "MSE baseline = 46444617473.9\n",
      "MSE = 36898665953.1\n"
     ]
    }
   ],
   "source": [
    "# calcaluate MSE\n",
    "\n",
    "MSE_baseline = SSE_baseline/len(df)\n",
    "MSE = SSE/len(df)\n",
    "\n",
    "print(f\"MSE baseline = {MSE_baseline:.1f}\")\n",
    "print(f'MSE = {MSE:.1f}')"
   ]
  },
  {
   "cell_type": "code",
   "execution_count": 16,
   "id": "2f99762d-c350-4245-bc05-e997fa36e2d9",
   "metadata": {},
   "outputs": [
    {
     "name": "stdout",
     "output_type": "stream",
     "text": [
      "RMSE baseline =  215510.1\n",
      "RMSE =  192090.3\n"
     ]
    }
   ],
   "source": [
    "# Calculate RMSE = (MSE)^(1/2)\n",
    "\n",
    "RMSE_baseline = MSE_baseline**.5\n",
    "RMSE = MSE**.5\n",
    "\n",
    "print(\"RMSE baseline = \", \"{:.1f}\".format(RMSE_baseline))\n",
    "print(\"RMSE = \", \"{:.1f}\".format(RMSE))\n"
   ]
  },
  {
   "cell_type": "code",
   "execution_count": 17,
   "id": "4ce13c66-527a-4dd1-8a86-c4584f84f577",
   "metadata": {},
   "outputs": [
    {
     "data": {
      "text/plain": [
       "4.961929285669926e+16"
      ]
     },
     "execution_count": 17,
     "metadata": {},
     "output_type": "execute_result"
    }
   ],
   "source": [
    "# Total Sum of Squares = SSE for baseline\n",
    "\n",
    "TSS = SSE_baseline\n",
    "TSS"
   ]
  },
  {
   "cell_type": "code",
   "execution_count": 18,
   "id": "b445ac67-135b-4947-ab14-750dcd6eaff3",
   "metadata": {},
   "outputs": [
    {
     "data": {
      "text/plain": [
       "1.0198455491060208e+16"
      ]
     },
     "execution_count": 18,
     "metadata": {},
     "output_type": "execute_result"
    }
   ],
   "source": [
    "# ESS - Explained Sum of Squares ('Explained Error')\n",
    "\n",
    "ESS = TSS - SSE\n",
    "ESS"
   ]
  },
  {
   "cell_type": "code",
   "execution_count": 19,
   "id": "166a69e9-ce23-4b7f-b8e2-8bd9b49e81c5",
   "metadata": {},
   "outputs": [
    {
     "data": {
      "text/plain": [
       "0.20553407563693807"
      ]
     },
     "execution_count": 19,
     "metadata": {},
     "output_type": "execute_result"
    }
   ],
   "source": [
    "# Calculate R^2 \n",
    "R2 = ESS/TSS\n",
    "R2"
   ]
  },
  {
   "cell_type": "code",
   "execution_count": 20,
   "id": "510b60b2-f351-466d-83fd-9c1731d8a286",
   "metadata": {},
   "outputs": [
    {
     "data": {
      "text/html": [
       "<div>\n",
       "<style scoped>\n",
       "    .dataframe tbody tr th:only-of-type {\n",
       "        vertical-align: middle;\n",
       "    }\n",
       "\n",
       "    .dataframe tbody tr th {\n",
       "        vertical-align: top;\n",
       "    }\n",
       "\n",
       "    .dataframe thead th {\n",
       "        text-align: right;\n",
       "    }\n",
       "</style>\n",
       "<table border=\"1\" class=\"dataframe\">\n",
       "  <thead>\n",
       "    <tr style=\"text-align: right;\">\n",
       "      <th></th>\n",
       "      <th>area</th>\n",
       "      <th>tax_value</th>\n",
       "      <th>baseline</th>\n",
       "      <th>predictions</th>\n",
       "      <th>baseline_residuals</th>\n",
       "      <th>residuals</th>\n",
       "      <th>baseline_residual_2</th>\n",
       "      <th>residual_2</th>\n",
       "    </tr>\n",
       "  </thead>\n",
       "  <tbody>\n",
       "    <tr>\n",
       "      <th>898710</th>\n",
       "      <td>3349.0</td>\n",
       "      <td>208996.0</td>\n",
       "      <td>341819.93</td>\n",
       "      <td>616770.136823</td>\n",
       "      <td>-132823.93</td>\n",
       "      <td>-407774.136823</td>\n",
       "      <td>1.764220e+10</td>\n",
       "      <td>1.662797e+11</td>\n",
       "    </tr>\n",
       "    <tr>\n",
       "      <th>951392</th>\n",
       "      <td>1985.0</td>\n",
       "      <td>259657.0</td>\n",
       "      <td>341819.93</td>\n",
       "      <td>391917.653737</td>\n",
       "      <td>-82162.93</td>\n",
       "      <td>-132260.653737</td>\n",
       "      <td>6.750747e+09</td>\n",
       "      <td>1.749288e+10</td>\n",
       "    </tr>\n",
       "    <tr>\n",
       "      <th>1847439</th>\n",
       "      <td>1616.0</td>\n",
       "      <td>28940.0</td>\n",
       "      <td>341819.93</td>\n",
       "      <td>331088.792844</td>\n",
       "      <td>-312879.93</td>\n",
       "      <td>-302148.792844</td>\n",
       "      <td>9.789385e+10</td>\n",
       "      <td>9.129389e+10</td>\n",
       "    </tr>\n",
       "    <tr>\n",
       "      <th>706503</th>\n",
       "      <td>2028.0</td>\n",
       "      <td>87633.0</td>\n",
       "      <td>341819.93</td>\n",
       "      <td>399006.111782</td>\n",
       "      <td>-254186.93</td>\n",
       "      <td>-311373.111782</td>\n",
       "      <td>6.461100e+10</td>\n",
       "      <td>9.695321e+10</td>\n",
       "    </tr>\n",
       "    <tr>\n",
       "      <th>461225</th>\n",
       "      <td>1138.0</td>\n",
       "      <td>46382.0</td>\n",
       "      <td>341819.93</td>\n",
       "      <td>252291.515047</td>\n",
       "      <td>-295437.93</td>\n",
       "      <td>-205909.515047</td>\n",
       "      <td>8.728357e+10</td>\n",
       "      <td>4.239873e+10</td>\n",
       "    </tr>\n",
       "    <tr>\n",
       "      <th>...</th>\n",
       "      <td>...</td>\n",
       "      <td>...</td>\n",
       "      <td>...</td>\n",
       "      <td>...</td>\n",
       "      <td>...</td>\n",
       "      <td>...</td>\n",
       "      <td>...</td>\n",
       "      <td>...</td>\n",
       "    </tr>\n",
       "    <tr>\n",
       "      <th>1025016</th>\n",
       "      <td>1434.0</td>\n",
       "      <td>62992.0</td>\n",
       "      <td>341819.93</td>\n",
       "      <td>301086.482051</td>\n",
       "      <td>-278827.93</td>\n",
       "      <td>-238094.482051</td>\n",
       "      <td>7.774501e+10</td>\n",
       "      <td>5.668898e+10</td>\n",
       "    </tr>\n",
       "    <tr>\n",
       "      <th>1734384</th>\n",
       "      <td>1336.0</td>\n",
       "      <td>540464.0</td>\n",
       "      <td>341819.93</td>\n",
       "      <td>284931.391624</td>\n",
       "      <td>198644.07</td>\n",
       "      <td>255532.608376</td>\n",
       "      <td>3.945947e+10</td>\n",
       "      <td>6.529691e+10</td>\n",
       "    </tr>\n",
       "    <tr>\n",
       "      <th>1121629</th>\n",
       "      <td>1739.0</td>\n",
       "      <td>513043.0</td>\n",
       "      <td>341819.93</td>\n",
       "      <td>351365.079808</td>\n",
       "      <td>171223.07</td>\n",
       "      <td>161677.920192</td>\n",
       "      <td>2.931734e+10</td>\n",
       "      <td>2.613975e+10</td>\n",
       "    </tr>\n",
       "    <tr>\n",
       "      <th>533946</th>\n",
       "      <td>1707.0</td>\n",
       "      <td>157328.0</td>\n",
       "      <td>341819.93</td>\n",
       "      <td>346089.948240</td>\n",
       "      <td>-184491.93</td>\n",
       "      <td>-188761.948240</td>\n",
       "      <td>3.403727e+10</td>\n",
       "      <td>3.563107e+10</td>\n",
       "    </tr>\n",
       "    <tr>\n",
       "      <th>358089</th>\n",
       "      <td>1914.0</td>\n",
       "      <td>324451.0</td>\n",
       "      <td>341819.93</td>\n",
       "      <td>380213.455571</td>\n",
       "      <td>-17368.93</td>\n",
       "      <td>-55762.455571</td>\n",
       "      <td>3.016797e+08</td>\n",
       "      <td>3.109451e+09</td>\n",
       "    </tr>\n",
       "  </tbody>\n",
       "</table>\n",
       "<p>1068354 rows × 8 columns</p>\n",
       "</div>"
      ],
      "text/plain": [
       "           area  tax_value   baseline    predictions  baseline_residuals  \\\n",
       "898710   3349.0   208996.0  341819.93  616770.136823          -132823.93   \n",
       "951392   1985.0   259657.0  341819.93  391917.653737           -82162.93   \n",
       "1847439  1616.0    28940.0  341819.93  331088.792844          -312879.93   \n",
       "706503   2028.0    87633.0  341819.93  399006.111782          -254186.93   \n",
       "461225   1138.0    46382.0  341819.93  252291.515047          -295437.93   \n",
       "...         ...        ...        ...            ...                 ...   \n",
       "1025016  1434.0    62992.0  341819.93  301086.482051          -278827.93   \n",
       "1734384  1336.0   540464.0  341819.93  284931.391624           198644.07   \n",
       "1121629  1739.0   513043.0  341819.93  351365.079808           171223.07   \n",
       "533946   1707.0   157328.0  341819.93  346089.948240          -184491.93   \n",
       "358089   1914.0   324451.0  341819.93  380213.455571           -17368.93   \n",
       "\n",
       "             residuals  baseline_residual_2    residual_2  \n",
       "898710  -407774.136823         1.764220e+10  1.662797e+11  \n",
       "951392  -132260.653737         6.750747e+09  1.749288e+10  \n",
       "1847439 -302148.792844         9.789385e+10  9.129389e+10  \n",
       "706503  -311373.111782         6.461100e+10  9.695321e+10  \n",
       "461225  -205909.515047         8.728357e+10  4.239873e+10  \n",
       "...                ...                  ...           ...  \n",
       "1025016 -238094.482051         7.774501e+10  5.668898e+10  \n",
       "1734384  255532.608376         3.945947e+10  6.529691e+10  \n",
       "1121629  161677.920192         2.931734e+10  2.613975e+10  \n",
       "533946  -188761.948240         3.403727e+10  3.563107e+10  \n",
       "358089   -55762.455571         3.016797e+08  3.109451e+09  \n",
       "\n",
       "[1068354 rows x 8 columns]"
      ]
     },
     "execution_count": 20,
     "metadata": {},
     "output_type": "execute_result"
    }
   ],
   "source": [
    "df"
   ]
  },
  {
   "cell_type": "code",
   "execution_count": 21,
   "id": "d310ffe4-fc3e-4254-848e-4e83b1a5213e",
   "metadata": {},
   "outputs": [
    {
     "data": {
      "text/plain": [
       "0.2055340756369376"
      ]
     },
     "execution_count": 21,
     "metadata": {},
     "output_type": "execute_result"
    }
   ],
   "source": [
    "r2_score(y, df.predictions)"
   ]
  },
  {
   "cell_type": "code",
   "execution_count": 43,
   "id": "bfc08165-1cf5-4584-973c-20e66d9c3326",
   "metadata": {},
   "outputs": [],
   "source": [
    "def regression_errors(y, yhat):\n",
    "    residuals = y - yhat\n",
    "    baseline = round(y.mean(), 2)\n",
    "    baseline_residuals = y - baseline\n",
    "    values = {\n",
    "        'SSE' : (residuals**2).sum(),\n",
    "        'TSS' : (baseline_residuals**2).sum(),\n",
    "        'ESS' : TSS - SSE,\n",
    "        'MSE' : SSE/len(y),\n",
    "        'RMSE' : MSE**.5   \n",
    "        }\n",
    "    return values"
   ]
  },
  {
   "cell_type": "code",
   "execution_count": 44,
   "id": "6db277f7-f7a0-4f14-a0f1-dfd03f9c2df8",
   "metadata": {},
   "outputs": [
    {
     "data": {
      "text/plain": [
       "{'SSE': 3.942083736563906e+16,\n",
       " 'TSS': 4.961929285669926e+16,\n",
       " 'ESS': 1.0198455491060208e+16,\n",
       " 'MSE': 36898665953.082085,\n",
       " 'RMSE': 192090.25470617213}"
      ]
     },
     "execution_count": 44,
     "metadata": {},
     "output_type": "execute_result"
    }
   ],
   "source": [
    "regression_errors(y, predictions)"
   ]
  },
  {
   "cell_type": "code",
   "execution_count": 41,
   "id": "a0df42ce-de2f-4725-ad29-46afedb61cce",
   "metadata": {},
   "outputs": [],
   "source": [
    "def baseline_mean_errors(y):\n",
    "    baseline = round(y.mean(), 2)\n",
    "    residuals = y - baseline\n",
    "    values = {\n",
    "        'SSE' : (residuals**2).sum(),\n",
    "        'MSE' : SSE/len(y),\n",
    "        'RMSE' : MSE**.5   \n",
    "        }\n",
    "    return values"
   ]
  },
  {
   "cell_type": "code",
   "execution_count": 45,
   "id": "5e6c84b2-c50a-49a5-98a0-ef391bb39275",
   "metadata": {},
   "outputs": [
    {
     "data": {
      "text/plain": [
       "{'SSE': 4.961929285669926e+16,\n",
       " 'MSE': 36898665953.082085,\n",
       " 'RMSE': 192090.25470617213}"
      ]
     },
     "execution_count": 45,
     "metadata": {},
     "output_type": "execute_result"
    }
   ],
   "source": [
    "baseline_mean_errors(y)"
   ]
  },
  {
   "cell_type": "code",
   "execution_count": 35,
   "id": "bb08e9b9-27de-4382-8297-c27095c2fab3",
   "metadata": {},
   "outputs": [],
   "source": []
  },
  {
   "cell_type": "code",
   "execution_count": 82,
   "id": "719f17b9-3170-42f3-9ada-2c8e82e12469",
   "metadata": {},
   "outputs": [],
   "source": [
    "def better_than_baseline(y, yhat):\n",
    "    model_score = r2_score(y, yhat)\n",
    "    baseline = round(y.mean(), 2)\n",
    "    baseline_arr = np.full(y.shape , baseline)\n",
    "    baseline_score = r2_score(y, baseline_arr)\n",
    "    if model_score > baseline_score:\n",
    "        return True\n",
    "    else: \n",
    "        return False\n",
    "    "
   ]
  },
  {
   "cell_type": "code",
   "execution_count": 83,
   "id": "4ee96605-4dad-43ca-bae1-344bd3f4ec95",
   "metadata": {},
   "outputs": [
    {
     "data": {
      "text/plain": [
       "True"
      ]
     },
     "execution_count": 83,
     "metadata": {},
     "output_type": "execute_result"
    }
   ],
   "source": [
    "better_than_baseline(y, predictions)"
   ]
  },
  {
   "cell_type": "code",
   "execution_count": 59,
   "id": "83370163-fd37-4ee5-844c-319cd2294ded",
   "metadata": {},
   "outputs": [
    {
     "data": {
      "text/plain": [
       "True"
      ]
     },
     "execution_count": 59,
     "metadata": {},
     "output_type": "execute_result"
    }
   ],
   "source": [
    "x = np.full(y.shape, baseline)\n",
    "len(x) == len(y)\n",
    "len(predictions) == len(y)"
   ]
  },
  {
   "cell_type": "code",
   "execution_count": 77,
   "id": "062f4ba5-00a3-457a-8890-f07603e4c276",
   "metadata": {},
   "outputs": [
    {
     "data": {
      "text/plain": [
       "-6.661338147750939e-16"
      ]
     },
     "execution_count": 77,
     "metadata": {},
     "output_type": "execute_result"
    }
   ],
   "source": [
    "baseline =  round(y.mean(), 2)\n",
    "baseline_arr = np.full(y.shape , baseline)\n",
    "base_df = pd.DataFrame(baseline_arr)\n",
    "baseline_score = r2_score(y, baseline_arr)\n"
   ]
  },
  {
   "cell_type": "code",
   "execution_count": 64,
   "id": "c7986dfd-7b78-4393-8d9f-456bee4f7eec",
   "metadata": {},
   "outputs": [
    {
     "data": {
      "text/plain": [
       "pandas.core.series.Series"
      ]
     },
     "execution_count": 64,
     "metadata": {},
     "output_type": "execute_result"
    }
   ],
   "source": [
    "type(y)"
   ]
  }
 ],
 "metadata": {
  "kernelspec": {
   "display_name": "Python 3 (ipykernel)",
   "language": "python",
   "name": "python3"
  },
  "language_info": {
   "codemirror_mode": {
    "name": "ipython",
    "version": 3
   },
   "file_extension": ".py",
   "mimetype": "text/x-python",
   "name": "python",
   "nbconvert_exporter": "python",
   "pygments_lexer": "ipython3",
   "version": "3.9.13"
  }
 },
 "nbformat": 4,
 "nbformat_minor": 5
}
